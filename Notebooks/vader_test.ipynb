{
 "cells": [
  {
   "cell_type": "code",
   "execution_count": null,
   "source": [
    "# function to print sentiments\r\n",
    "# of the sentence.\r\n",
    "def sentiment_scores(sentence):\r\n",
    " \r\n",
    "    # Create a SentimentIntensityAnalyzer object.\r\n",
    "    sid_obj = SentimentIntensityAnalyzer()\r\n",
    " \r\n",
    "    # polarity_scores method of SentimentIntensityAnalyzer\r\n",
    "    # object gives a sentiment dictionary.\r\n",
    "    # which contains pos, neg, neu, and compound scores.\r\n",
    "    sentiment_dict = sid_obj.polarity_scores(sentence)\r\n",
    "     \r\n",
    "    print(\"Overall sentiment dictionary is : \", sentiment_dict)\r\n",
    "    print(\"sentence was rated as \", sentiment_dict['neg']*100, \"% Negative\")\r\n",
    "    print(\"sentence was rated as \", sentiment_dict['neu']*100, \"% Neutral\")\r\n",
    "    print(\"sentence was rated as \", sentiment_dict['pos']*100, \"% Positive\")\r\n",
    " \r\n",
    "    print(\"Sentence Overall Rated As\", end = \" \")\r\n",
    " \r\n",
    "    # decide sentiment as positive, negative and neutral\r\n",
    "    if sentiment_dict['compound'] >= 0.05 :\r\n",
    "        print(\"Positive\")\r\n",
    " \r\n",
    "    elif sentiment_dict['compound'] <= - 0.05 :\r\n",
    "        print(\"Negative\")\r\n",
    " \r\n",
    "    else :\r\n",
    "        print(\"Neutral\")\r\n",
    " \r\n",
    " \r\n",
    "   \r\n",
    "# Driver code\r\n",
    "if __name__ == \"__main__\" :\r\n",
    " \r\n",
    "    print(\"\\n1st statement :\")\r\n",
    "    sentence = \"Geeks For Geeks is the best portal for \\\r\n",
    "                the computer science engineering students.\"\r\n",
    " \r\n",
    "    # function calling\r\n",
    "    sentiment_scores(sentence)\r\n",
    " \r\n",
    "    print(\"\\n2nd Statement :\")\r\n",
    "    sentence = \"study is going on as usual\"\r\n",
    "    sentiment_scores(sentence)\r\n",
    " \r\n",
    "    print(\"\\n3rd Statement :\")\r\n",
    "    sentence = \"I am vey sad today.\"\r\n",
    "    sentiment_scores(sentence)"
   ],
   "outputs": [],
   "metadata": {}
  }
 ],
 "metadata": {
  "orig_nbformat": 4,
  "language_info": {
   "name": "python"
  }
 },
 "nbformat": 4,
 "nbformat_minor": 2
}