{
 "cells": [
  {
   "cell_type": "code",
   "execution_count": null,
   "source": [
    "import pandas as pd\r\n",
    "import praw\r\n",
    "from praw.models import MoreComments\r\n",
    "import time"
   ],
   "outputs": [],
   "metadata": {}
  },
  {
   "cell_type": "code",
   "execution_count": null,
   "source": [
    "# Set Reddit API Credentials\r\n",
    "reddit = praw.Reddit(\r\n",
    "     client_id=\"3gRvZgbUzCz_Tg\",\r\n",
    "     client_secret=\"BuNkAnAhJFZhtDMw303NyxiIonIkpg\",\r\n",
    "     user_agent=\"image-scraper\"\r\n",
    ")"
   ],
   "outputs": [],
   "metadata": {}
  },
  {
   "cell_type": "code",
   "execution_count": null,
   "source": [
    "print(reddit.read_only)  # Output: True"
   ],
   "outputs": [],
   "metadata": {}
  },
  {
   "cell_type": "code",
   "execution_count": null,
   "source": [
    "# Create list to search\r\n",
    "crypto_subs = ['Bitcoin', 'Ethereum', 'Bitcoin Cash', 'Ripple and/or XRP', 'Cardano', 'Litecoin', 'Stellar', \r\n",
    "                'Basic Attention Token', 'Orchid', 'Algorand', 'Tezos', 'Cosmos', 'Polkadot', 'Polygon',\r\n",
    "                'Ankr', 'Ethereum Classic', 'NEO', 'Litecoin', 'Monero', 'Dogecoin', 'Chainlink',\r\n",
    "                'USD Coin', 'IOTA', 'Tether', 'Binance Coin', 'Solana', 'Terra', 'Internet Computer',\r\n",
    "                'Filecoin', 'Amp', 'Zcash']"
   ],
   "outputs": [],
   "metadata": {}
  },
  {
   "cell_type": "code",
   "execution_count": null,
   "source": [
    "# Create list to search\r\n",
    "#crypto_subs = ['Ethereum']"
   ],
   "outputs": [],
   "metadata": {}
  },
  {
   "cell_type": "code",
   "execution_count": null,
   "source": [
    "for x in crypto_subs:\r\n",
    "    # Define name of subreddit\r\n",
    "    sub = x\r\n",
    "    # Define the name of the directory to be created. Replace with your directory location.\r\n",
    "    csv_dir = '../Data/Search/'\r\n",
    "\r\n",
    "    d = []\r\n",
    "    for submission in reddit.subreddit(\"all\").search(sub, sort=\"comments\", limit=None):  #None\r\n",
    "    #for submission in reddit.subreddit(sub).hot(limit=1000):\r\n",
    "        d.append(                                            \r\n",
    "            {                                                \r\n",
    "                'Title': submission.title,\r\n",
    "                #'Score': submission.score,\r\n",
    "                'Id':  submission.id,\r\n",
    "                #'Url': submission.url,\r\n",
    "                #'Author': submission.author,\r\n",
    "                'Comments': submission.comments,\r\n",
    "                'Created_utc': submission.created_utc,\r\n",
    "                #'Original Content': submission.is_original_content,\r\n",
    "                #'Flair Text': submission.link_flair_text,\r\n",
    "                #'Full Name': submission.name,\r\n",
    "                #'Locked': submission.locked,\r\n",
    "                'Number of Comments': submission.num_comments,\r\n",
    "                #'NSFW': submission.over_18,\r\n",
    "                #'Upvote Percentage': submission.upvote_ratio,\r\n",
    "                #'Text': submission.selftext\r\n",
    "            }\r\n",
    "        )\r\n",
    "\r\n",
    "    search = pd.DataFrame(d)\r\n",
    "    \r\n",
    "    # Create date string for csv file name\r\n",
    "    timestr = time.strftime(\"%Y%m%d\")\r\n",
    "    \r\n",
    "    search.to_csv(csv_dir + 'search_' + sub + '_' + timestr + '.csv', index = False)"
   ],
   "outputs": [],
   "metadata": {}
  }
 ],
 "metadata": {
  "orig_nbformat": 4,
  "language_info": {
   "name": "python",
   "version": "3.8.8",
   "mimetype": "text/x-python",
   "codemirror_mode": {
    "name": "ipython",
    "version": 3
   },
   "pygments_lexer": "ipython3",
   "nbconvert_exporter": "python",
   "file_extension": ".py"
  },
  "kernelspec": {
   "name": "python3",
   "display_name": "Python 3.8.8 64-bit ('base': conda)"
  },
  "interpreter": {
   "hash": "825893eda577408078809c25d9ed95f592e592429a99ce56af90a73b72386c66"
  }
 },
 "nbformat": 4,
 "nbformat_minor": 2
}