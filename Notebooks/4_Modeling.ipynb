{
 "cells": [
  {
   "cell_type": "markdown",
   "source": [
    "# Modeling"
   ],
   "metadata": {}
  },
  {
   "cell_type": "code",
   "execution_count": 1,
   "source": [
    "import pandas as pd\r\n",
    "import numpy as np\r\n",
    "from sklearn.model_selection import train_test_split\r\n",
    "from sklearn.preprocessing import StandardScaler\r\n",
    "from sklearn.linear_model import LogisticRegression\r\n",
    "from sklearn.metrics import accuracy_score\r\n",
    "from sklearn.metrics import plot_confusion_matrix\r\n",
    "from sklearn import metrics\r\n",
    "from sklearn.neighbors import KNeighborsClassifier\r\n",
    "import matplotlib.pyplot as plt\r\n",
    "from sklearn.svm import SVR\r\n",
    "from sklearn.metrics import r2_score\r\n",
    "import seaborn as sns\r\n",
    "from sklearn import svm\r\n",
    "from sklearn.metrics import accuracy_score,confusion_matrix\r\n",
    "from sklearn.ensemble import RandomForestClassifier\r\n",
    "from sklearn.ensemble import GradientBoostingClassifier\r\n",
    "\r\n",
    "\r\n",
    "# allow plots to appear within the notebook\r\n",
    "%matplotlib inline"
   ],
   "outputs": [],
   "metadata": {}
  },
  {
   "cell_type": "code",
   "execution_count": 2,
   "source": [
    "df = pd.read_csv('../Data/cleaned_sentiment_scores.csv')\r\n",
    "df.head()"
   ],
   "outputs": [
    {
     "output_type": "execute_result",
     "data": {
      "text/html": [
       "<div>\n",
       "<style scoped>\n",
       "    .dataframe tbody tr th:only-of-type {\n",
       "        vertical-align: middle;\n",
       "    }\n",
       "\n",
       "    .dataframe tbody tr th {\n",
       "        vertical-align: top;\n",
       "    }\n",
       "\n",
       "    .dataframe thead th {\n",
       "        text-align: right;\n",
       "    }\n",
       "</style>\n",
       "<table border=\"1\" class=\"dataframe\">\n",
       "  <thead>\n",
       "    <tr style=\"text-align: right;\">\n",
       "      <th></th>\n",
       "      <th>Unnamed: 0</th>\n",
       "      <th>time</th>\n",
       "      <th>avg_positive</th>\n",
       "      <th>avg_neutral</th>\n",
       "      <th>avg_negative</th>\n",
       "      <th>avg_compound</th>\n",
       "      <th>low</th>\n",
       "      <th>high</th>\n",
       "      <th>open</th>\n",
       "      <th>close</th>\n",
       "      <th>volume</th>\n",
       "      <th>price_difference</th>\n",
       "    </tr>\n",
       "  </thead>\n",
       "  <tbody>\n",
       "    <tr>\n",
       "      <th>0</th>\n",
       "      <td>0</td>\n",
       "      <td>2018-12-31</td>\n",
       "      <td>0.138213</td>\n",
       "      <td>0.791725</td>\n",
       "      <td>0.070078</td>\n",
       "      <td>0.133069</td>\n",
       "      <td>3625.00</td>\n",
       "      <td>3835.40</td>\n",
       "      <td>3829.00</td>\n",
       "      <td>3691.86</td>\n",
       "      <td>12799.942626</td>\n",
       "      <td>NaN</td>\n",
       "    </tr>\n",
       "    <tr>\n",
       "      <th>1</th>\n",
       "      <td>1</td>\n",
       "      <td>2019-01-01</td>\n",
       "      <td>0.133899</td>\n",
       "      <td>0.801962</td>\n",
       "      <td>0.064177</td>\n",
       "      <td>0.131864</td>\n",
       "      <td>3651.02</td>\n",
       "      <td>3841.17</td>\n",
       "      <td>3691.87</td>\n",
       "      <td>3826.10</td>\n",
       "      <td>10812.884988</td>\n",
       "      <td>1.0</td>\n",
       "    </tr>\n",
       "    <tr>\n",
       "      <th>2</th>\n",
       "      <td>2</td>\n",
       "      <td>2019-01-02</td>\n",
       "      <td>0.124542</td>\n",
       "      <td>0.805365</td>\n",
       "      <td>0.070119</td>\n",
       "      <td>0.111221</td>\n",
       "      <td>3770.07</td>\n",
       "      <td>3916.57</td>\n",
       "      <td>3826.10</td>\n",
       "      <td>3890.79</td>\n",
       "      <td>9982.470846</td>\n",
       "      <td>1.0</td>\n",
       "    </tr>\n",
       "    <tr>\n",
       "      <th>3</th>\n",
       "      <td>3</td>\n",
       "      <td>2019-01-03</td>\n",
       "      <td>0.145012</td>\n",
       "      <td>0.785654</td>\n",
       "      <td>0.069367</td>\n",
       "      <td>0.141588</td>\n",
       "      <td>3758.07</td>\n",
       "      <td>3893.80</td>\n",
       "      <td>3890.80</td>\n",
       "      <td>3787.57</td>\n",
       "      <td>9327.647089</td>\n",
       "      <td>0.0</td>\n",
       "    </tr>\n",
       "    <tr>\n",
       "      <th>4</th>\n",
       "      <td>4</td>\n",
       "      <td>2019-01-04</td>\n",
       "      <td>0.124144</td>\n",
       "      <td>0.801732</td>\n",
       "      <td>0.074139</td>\n",
       "      <td>0.123028</td>\n",
       "      <td>3730.00</td>\n",
       "      <td>3849.00</td>\n",
       "      <td>3787.57</td>\n",
       "      <td>3820.82</td>\n",
       "      <td>9225.150500</td>\n",
       "      <td>1.0</td>\n",
       "    </tr>\n",
       "  </tbody>\n",
       "</table>\n",
       "</div>"
      ],
      "text/plain": [
       "   Unnamed: 0        time  avg_positive  avg_neutral  avg_negative  \\\n",
       "0           0  2018-12-31      0.138213     0.791725      0.070078   \n",
       "1           1  2019-01-01      0.133899     0.801962      0.064177   \n",
       "2           2  2019-01-02      0.124542     0.805365      0.070119   \n",
       "3           3  2019-01-03      0.145012     0.785654      0.069367   \n",
       "4           4  2019-01-04      0.124144     0.801732      0.074139   \n",
       "\n",
       "   avg_compound      low     high     open    close        volume  \\\n",
       "0      0.133069  3625.00  3835.40  3829.00  3691.86  12799.942626   \n",
       "1      0.131864  3651.02  3841.17  3691.87  3826.10  10812.884988   \n",
       "2      0.111221  3770.07  3916.57  3826.10  3890.79   9982.470846   \n",
       "3      0.141588  3758.07  3893.80  3890.80  3787.57   9327.647089   \n",
       "4      0.123028  3730.00  3849.00  3787.57  3820.82   9225.150500   \n",
       "\n",
       "   price_difference  \n",
       "0               NaN  \n",
       "1               1.0  \n",
       "2               1.0  \n",
       "3               0.0  \n",
       "4               1.0  "
      ]
     },
     "metadata": {},
     "execution_count": 2
    }
   ],
   "metadata": {}
  },
  {
   "cell_type": "code",
   "execution_count": 3,
   "source": [
    "# Drop Unnamed column\r\n",
    "df = df.drop('Unnamed: 0', axis=1)"
   ],
   "outputs": [],
   "metadata": {}
  },
  {
   "cell_type": "code",
   "execution_count": 4,
   "source": [
    "# Drop all rows with null values\r\n",
    "df = df.dropna()"
   ],
   "outputs": [],
   "metadata": {}
  },
  {
   "cell_type": "code",
   "execution_count": 5,
   "source": [
    "# Convert price_difference column to integer\r\n",
    "df['price_difference'] = df['price_difference'].astype(int)"
   ],
   "outputs": [],
   "metadata": {}
  },
  {
   "cell_type": "code",
   "execution_count": 6,
   "source": [
    "df.dtypes"
   ],
   "outputs": [
    {
     "output_type": "execute_result",
     "data": {
      "text/plain": [
       "time                 object\n",
       "avg_positive        float64\n",
       "avg_neutral         float64\n",
       "avg_negative        float64\n",
       "avg_compound        float64\n",
       "low                 float64\n",
       "high                float64\n",
       "open                float64\n",
       "close               float64\n",
       "volume              float64\n",
       "price_difference      int32\n",
       "dtype: object"
      ]
     },
     "metadata": {},
     "execution_count": 6
    }
   ],
   "metadata": {}
  },
  {
   "cell_type": "code",
   "execution_count": 7,
   "source": [
    "df.describe()"
   ],
   "outputs": [
    {
     "output_type": "execute_result",
     "data": {
      "text/html": [
       "<div>\n",
       "<style scoped>\n",
       "    .dataframe tbody tr th:only-of-type {\n",
       "        vertical-align: middle;\n",
       "    }\n",
       "\n",
       "    .dataframe tbody tr th {\n",
       "        vertical-align: top;\n",
       "    }\n",
       "\n",
       "    .dataframe thead th {\n",
       "        text-align: right;\n",
       "    }\n",
       "</style>\n",
       "<table border=\"1\" class=\"dataframe\">\n",
       "  <thead>\n",
       "    <tr style=\"text-align: right;\">\n",
       "      <th></th>\n",
       "      <th>avg_positive</th>\n",
       "      <th>avg_neutral</th>\n",
       "      <th>avg_negative</th>\n",
       "      <th>avg_compound</th>\n",
       "      <th>low</th>\n",
       "      <th>high</th>\n",
       "      <th>open</th>\n",
       "      <th>close</th>\n",
       "      <th>volume</th>\n",
       "      <th>price_difference</th>\n",
       "    </tr>\n",
       "  </thead>\n",
       "  <tbody>\n",
       "    <tr>\n",
       "      <th>count</th>\n",
       "      <td>956.000000</td>\n",
       "      <td>956.000000</td>\n",
       "      <td>956.000000</td>\n",
       "      <td>956.000000</td>\n",
       "      <td>956.000000</td>\n",
       "      <td>956.000000</td>\n",
       "      <td>956.000000</td>\n",
       "      <td>956.000000</td>\n",
       "      <td>956.000000</td>\n",
       "      <td>956.000000</td>\n",
       "    </tr>\n",
       "    <tr>\n",
       "      <th>mean</th>\n",
       "      <td>0.127937</td>\n",
       "      <td>0.803008</td>\n",
       "      <td>0.069057</td>\n",
       "      <td>0.127237</td>\n",
       "      <td>16918.036684</td>\n",
       "      <td>18070.012448</td>\n",
       "      <td>17535.253096</td>\n",
       "      <td>17573.644676</td>\n",
       "      <td>15968.968337</td>\n",
       "      <td>0.540795</td>\n",
       "    </tr>\n",
       "    <tr>\n",
       "      <th>std</th>\n",
       "      <td>0.007205</td>\n",
       "      <td>0.007798</td>\n",
       "      <td>0.005417</td>\n",
       "      <td>0.022316</td>\n",
       "      <td>15270.944504</td>\n",
       "      <td>16455.308586</td>\n",
       "      <td>15930.540944</td>\n",
       "      <td>15946.774225</td>\n",
       "      <td>12867.252150</td>\n",
       "      <td>0.498594</td>\n",
       "    </tr>\n",
       "    <tr>\n",
       "      <th>min</th>\n",
       "      <td>0.105348</td>\n",
       "      <td>0.761980</td>\n",
       "      <td>0.052819</td>\n",
       "      <td>0.017491</td>\n",
       "      <td>3337.870000</td>\n",
       "      <td>3383.140000</td>\n",
       "      <td>3358.990000</td>\n",
       "      <td>3359.000000</td>\n",
       "      <td>2699.830014</td>\n",
       "      <td>0.000000</td>\n",
       "    </tr>\n",
       "    <tr>\n",
       "      <th>25%</th>\n",
       "      <td>0.123239</td>\n",
       "      <td>0.797984</td>\n",
       "      <td>0.065355</td>\n",
       "      <td>0.113462</td>\n",
       "      <td>7570.232500</td>\n",
       "      <td>8088.010000</td>\n",
       "      <td>7850.562500</td>\n",
       "      <td>7874.167500</td>\n",
       "      <td>8022.604002</td>\n",
       "      <td>0.000000</td>\n",
       "    </tr>\n",
       "    <tr>\n",
       "      <th>50%</th>\n",
       "      <td>0.127816</td>\n",
       "      <td>0.803003</td>\n",
       "      <td>0.068791</td>\n",
       "      <td>0.128613</td>\n",
       "      <td>9611.195000</td>\n",
       "      <td>10181.950000</td>\n",
       "      <td>9887.605000</td>\n",
       "      <td>9899.840000</td>\n",
       "      <td>12374.627420</td>\n",
       "      <td>1.000000</td>\n",
       "    </tr>\n",
       "    <tr>\n",
       "      <th>75%</th>\n",
       "      <td>0.132358</td>\n",
       "      <td>0.808023</td>\n",
       "      <td>0.072579</td>\n",
       "      <td>0.142913</td>\n",
       "      <td>22628.222500</td>\n",
       "      <td>24097.187500</td>\n",
       "      <td>23288.762500</td>\n",
       "      <td>23536.872500</td>\n",
       "      <td>19190.032921</td>\n",
       "      <td>1.000000</td>\n",
       "    </tr>\n",
       "    <tr>\n",
       "      <th>max</th>\n",
       "      <td>0.177963</td>\n",
       "      <td>0.835052</td>\n",
       "      <td>0.089819</td>\n",
       "      <td>0.188500</td>\n",
       "      <td>62036.730000</td>\n",
       "      <td>64899.000000</td>\n",
       "      <td>63588.220000</td>\n",
       "      <td>63588.220000</td>\n",
       "      <td>130316.646844</td>\n",
       "      <td>1.000000</td>\n",
       "    </tr>\n",
       "  </tbody>\n",
       "</table>\n",
       "</div>"
      ],
      "text/plain": [
       "       avg_positive  avg_neutral  avg_negative  avg_compound           low  \\\n",
       "count    956.000000   956.000000    956.000000    956.000000    956.000000   \n",
       "mean       0.127937     0.803008      0.069057      0.127237  16918.036684   \n",
       "std        0.007205     0.007798      0.005417      0.022316  15270.944504   \n",
       "min        0.105348     0.761980      0.052819      0.017491   3337.870000   \n",
       "25%        0.123239     0.797984      0.065355      0.113462   7570.232500   \n",
       "50%        0.127816     0.803003      0.068791      0.128613   9611.195000   \n",
       "75%        0.132358     0.808023      0.072579      0.142913  22628.222500   \n",
       "max        0.177963     0.835052      0.089819      0.188500  62036.730000   \n",
       "\n",
       "               high          open         close         volume  \\\n",
       "count    956.000000    956.000000    956.000000     956.000000   \n",
       "mean   18070.012448  17535.253096  17573.644676   15968.968337   \n",
       "std    16455.308586  15930.540944  15946.774225   12867.252150   \n",
       "min     3383.140000   3358.990000   3359.000000    2699.830014   \n",
       "25%     8088.010000   7850.562500   7874.167500    8022.604002   \n",
       "50%    10181.950000   9887.605000   9899.840000   12374.627420   \n",
       "75%    24097.187500  23288.762500  23536.872500   19190.032921   \n",
       "max    64899.000000  63588.220000  63588.220000  130316.646844   \n",
       "\n",
       "       price_difference  \n",
       "count        956.000000  \n",
       "mean           0.540795  \n",
       "std            0.498594  \n",
       "min            0.000000  \n",
       "25%            0.000000  \n",
       "50%            1.000000  \n",
       "75%            1.000000  \n",
       "max            1.000000  "
      ]
     },
     "metadata": {},
     "execution_count": 7
    }
   ],
   "metadata": {}
  },
  {
   "cell_type": "markdown",
   "source": [
    "## Train, Test, Split"
   ],
   "metadata": {}
  },
  {
   "cell_type": "code",
   "execution_count": 8,
   "source": [
    "X = df[['avg_positive', 'avg_neutral', 'avg_negative', 'avg_compound']]\r\n",
    "y = df[['price_difference']]"
   ],
   "outputs": [],
   "metadata": {}
  },
  {
   "cell_type": "code",
   "execution_count": 9,
   "source": [
    "# Create train, test, split datasets\r\n",
    "X_train, X_test, y_train, y_test = train_test_split(X, y, test_size=0.3, random_state=42)"
   ],
   "outputs": [],
   "metadata": {}
  },
  {
   "cell_type": "markdown",
   "source": [
    "## Standard Scaler"
   ],
   "metadata": {}
  },
  {
   "cell_type": "code",
   "execution_count": 10,
   "source": [
    "# Create an instance of the scaler and apply it to the data\r\n",
    "sc = StandardScaler()\r\n",
    "\r\n",
    "X_train = sc.fit_transform(X_train)\r\n",
    "\r\n",
    "X_test = sc.transform(X_test)"
   ],
   "outputs": [],
   "metadata": {}
  },
  {
   "cell_type": "markdown",
   "source": [
    "## Logistic Regression"
   ],
   "metadata": {}
  },
  {
   "cell_type": "code",
   "execution_count": 11,
   "source": [
    "# Create instance of classifier\r\n",
    "LogReg = LogisticRegression()\r\n",
    "\r\n",
    "LogReg.fit(X_train, y_train.values.ravel())\r\n",
    "\r\n",
    "y_pred = LogReg.predict(X_test)"
   ],
   "outputs": [],
   "metadata": {}
  },
  {
   "cell_type": "code",
   "execution_count": 12,
   "source": [
    "acc_score = round(accuracy_score(y_test, y_pred)*100, 2)\r\n",
    "\r\n",
    "print(\"Accuracy Score: \", acc_score)"
   ],
   "outputs": [
    {
     "output_type": "stream",
     "name": "stdout",
     "text": [
      "Accuracy Score:  52.61\n"
     ]
    }
   ],
   "metadata": {}
  },
  {
   "cell_type": "code",
   "execution_count": 13,
   "source": [
    "# plot confusion matrix\r\n",
    "plot_confusion_matrix(LogReg, X_test, y_test)"
   ],
   "outputs": [
    {
     "output_type": "execute_result",
     "data": {
      "text/plain": [
       "<sklearn.metrics._plot.confusion_matrix.ConfusionMatrixDisplay at 0x161148eeb80>"
      ]
     },
     "metadata": {},
     "execution_count": 13
    },
    {
     "output_type": "display_data",
     "data": {
      "image/png": "[encoded data removed]",
      "text/plain": [
       "<Figure size 432x288 with 2 Axes>"
      ]
     },
     "metadata": {
      "needs_background": "light"
     }
    }
   ],
   "metadata": {}
  },
  {
   "cell_type": "markdown",
   "source": [
    "## K Nearest Neighbors"
   ],
   "metadata": {}
  },
  {
   "cell_type": "markdown",
   "source": [
    "### Find Best Value of K"
   ],
   "metadata": {}
  },
  {
   "cell_type": "code",
   "execution_count": 14,
   "source": [
    "# try K=1 through K=25 and record testing accuracy\r\n",
    "k_range = range(1, 26)\r\n",
    "\r\n",
    "# We can create Python dictionary using [] or dict()\r\n",
    "scores = []\r\n",
    "\r\n",
    "# We use a loop through the range 1 to 26\r\n",
    "# We append the scores in the dictionary\r\n",
    "for k in k_range:\r\n",
    "    knn = KNeighborsClassifier(n_neighbors=k)\r\n",
    "    knn.fit(X_train, y_train.values.ravel())\r\n",
    "    y_pred = knn.predict(X_test)\r\n",
    "    scores.append(metrics.accuracy_score(y_test, y_pred))\r\n",
    "\r\n",
    "print(scores)"
   ],
   "outputs": [
    {
     "output_type": "stream",
     "name": "stdout",
     "text": [
      "[0.5435540069686411, 0.519163763066202, 0.5226480836236934, 0.5400696864111498, 0.5609756097560976, 0.5679442508710801, 0.5574912891986062, 0.5435540069686411, 0.5400696864111498, 0.5226480836236934, 0.5331010452961672, 0.5296167247386759, 0.519163763066202, 0.5226480836236934, 0.5226480836236934, 0.5121951219512195, 0.5331010452961672, 0.5087108013937283, 0.5121951219512195, 0.519163763066202, 0.5331010452961672, 0.5226480836236934, 0.5226480836236934, 0.519163763066202, 0.5435540069686411]\n"
     ]
    }
   ],
   "metadata": {}
  },
  {
   "cell_type": "code",
   "execution_count": 15,
   "source": [
    "# plot the relationship between K and testing accuracy\r\n",
    "# plt.plot(x_axis, y_axis)\r\n",
    "plt.plot(k_range, scores)\r\n",
    "plt.xlabel('Value of K for KNN')\r\n",
    "plt.ylabel('Testing Accuracy')"
   ],
   "outputs": [
    {
     "output_type": "execute_result",
     "data": {
      "text/plain": [
       "Text(0, 0.5, 'Testing Accuracy')"
      ]
     },
     "metadata": {},
     "execution_count": 15
    },
    {
     "output_type": "display_data",
     "data": {
      "image/png": "[encoded data removed]",
      "text/plain": [
       "<Figure size 432x288 with 1 Axes>"
      ]
     },
     "metadata": {
      "needs_background": "light"
     }
    }
   ],
   "metadata": {}
  },
  {
   "cell_type": "code",
   "execution_count": 16,
   "source": [
    "#Create KNN Classifier\r\n",
    "knn = KNeighborsClassifier(n_neighbors=1)\r\n",
    "\r\n",
    "#Train the model using the training sets\r\n",
    "knn.fit(X_train, y_train)\r\n",
    "\r\n",
    "#Predict the response for test dataset\r\n",
    "y_pred = knn.predict(X_test)\r\n",
    "\r\n",
    "# Model Accuracy, how often is the classifier correct?\r\n",
    "print(\"Accuracy:\",metrics.accuracy_score(y_test, y_pred))"
   ],
   "outputs": [
    {
     "output_type": "stream",
     "name": "stdout",
     "text": [
      "Accuracy: 0.5435540069686411\n"
     ]
    },
    {
     "output_type": "stream",
     "name": "stderr",
     "text": [
      "C:\\Users\\User1\\Anaconda3\\lib\\site-packages\\sklearn\\neighbors\\_classification.py:179: DataConversionWarning: A column-vector y was passed when a 1d array was expected. Please change the shape of y to (n_samples,), for example using ravel().\n",
      "  return self._fit(X, y)\n"
     ]
    }
   ],
   "metadata": {}
  },
  {
   "cell_type": "markdown",
   "source": [
    "## Support Vector Machine (SVM)"
   ],
   "metadata": {}
  },
  {
   "cell_type": "code",
   "execution_count": 17,
   "source": [
    "# Create object SVR\r\n",
    "svr = SVR(kernel = 'linear',C = 1000)"
   ],
   "outputs": [],
   "metadata": {}
  },
  {
   "cell_type": "code",
   "execution_count": 18,
   "source": [
    "svr.fit(X_train,y_train)\r\n",
    "y_test_pred = svr.predict(X_test)\r\n",
    "y_train_pred = svr.predict(X_train)"
   ],
   "outputs": [
    {
     "output_type": "stream",
     "name": "stderr",
     "text": [
      "C:\\Users\\User1\\Anaconda3\\lib\\site-packages\\sklearn\\utils\\validation.py:63: DataConversionWarning: A column-vector y was passed when a 1d array was expected. Please change the shape of y to (n_samples, ), for example using ravel().\n",
      "  return f(*args, **kwargs)\n"
     ]
    }
   ],
   "metadata": {}
  },
  {
   "cell_type": "code",
   "execution_count": 19,
   "source": [
    "y_test_pred"
   ],
   "outputs": [
    {
     "output_type": "execute_result",
     "data": {
      "text/plain": [
       "array([ 0.38014143,  0.61029398,  0.72293395,  0.96307981,  0.96017859,\n",
       "        0.59515886,  0.45458646,  0.60270214,  0.62884487,  0.72666638,\n",
       "        0.70670478,  0.87428965,  0.75692756,  1.04180595,  0.73804715,\n",
       "        0.76454947,  0.68788998,  0.7655657 ,  0.72835876,  0.75750389,\n",
       "        1.12594715,  0.80746159,  0.99090125,  1.32308183,  0.79615247,\n",
       "        0.7311605 ,  0.86034591,  0.45317933,  0.80604813,  0.4628712 ,\n",
       "        0.74431103,  0.57236055,  0.50645627,  0.37703693,  0.26858021,\n",
       "        0.72318244,  0.83185481,  0.29485719,  0.74787943,  0.81805261,\n",
       "        0.87616161,  0.86311779,  0.7198567 ,  1.01476646,  0.98479863,\n",
       "        0.79494894,  0.93371078,  0.301702  ,  0.71158591,  0.3649731 ,\n",
       "        0.65059146,  0.66043625,  0.0890554 ,  0.97089562,  0.84455128,\n",
       "        0.87869255,  0.94622517,  0.60043135,  0.56346673,  0.81590216,\n",
       "       -0.02024323,  0.96530499,  0.89366836,  0.82855691,  0.87688557,\n",
       "        1.11377937,  0.52122374,  0.60008857,  0.66856092,  0.78080143,\n",
       "        1.15100154,  0.67540467,  0.56658482,  1.15389361,  0.56203204,\n",
       "        0.74950463,  0.86822929,  0.97920176,  0.73045143,  0.83553013,\n",
       "        0.37280484,  0.68052133,  0.71616239,  0.76753702,  0.69304009,\n",
       "        0.86324255,  0.5122303 ,  0.37766735,  0.45197563,  0.48231232,\n",
       "        0.82636587,  0.22334138,  0.48463498,  0.90390283,  0.84442462,\n",
       "        0.95296148, -0.00282131,  0.56227842,  0.72093007,  0.36224519,\n",
       "        0.87043324,  0.71994532,  0.72640041,  0.59203453,  0.96611942,\n",
       "        0.76358199,  0.6803498 ,  0.75343635,  0.67650935,  0.58176743,\n",
       "        0.51690277,  0.63903673,  0.93326825,  0.41213118,  0.53208097,\n",
       "        0.44979756,  0.61870298,  0.8259544 ,  0.49094159,  0.90766668,\n",
       "        0.66175872,  1.14555681,  0.07050593,  0.75885278,  0.40949771,\n",
       "        0.81540555,  0.58129329,  0.89269189,  0.84547928,  0.73334025,\n",
       "        1.02498925,  0.37255118,  0.72535103,  0.55792373,  0.41465679,\n",
       "        0.6435394 ,  0.70985146,  0.81626434,  0.63867025,  0.71178434,\n",
       "        0.82742852,  0.54144698,  0.35912947,  0.54986027,  0.86623641,\n",
       "        0.63211035,  0.72424787,  0.71970334,  0.85226103,  0.77900389,\n",
       "        0.80554112,  0.77690219,  0.80049289,  0.77959989,  0.47680711,\n",
       "        0.46925084,  0.50929529,  0.57643777,  1.09178739,  0.74004632,\n",
       "        0.73524696,  0.58967903,  0.88446642,  0.89685875,  0.66213337,\n",
       "        0.75549518,  0.5289113 ,  0.42526588,  0.55925464,  0.76296651,\n",
       "        0.81220399,  0.90114249,  0.15354422,  0.5841534 ,  0.95294126,\n",
       "        0.47179574,  0.93982482,  0.9440256 ,  0.93440676,  0.53474372,\n",
       "        0.58221001,  0.52234538,  0.38300265,  0.65889353,  0.59209486,\n",
       "        0.99079892,  0.71301908,  0.65516674,  0.64496569,  0.83996869,\n",
       "        0.87400478,  0.41821376,  1.03160017,  0.71416695,  0.93391038,\n",
       "        0.93149199,  0.14078848,  0.69996541,  1.14090683,  0.8723606 ,\n",
       "        0.59460641,  0.54580863,  0.62736423,  0.98203686,  0.73767807,\n",
       "        0.59772889,  0.68591104, -0.05896734,  0.53542819,  0.77315187,\n",
       "        0.74702542,  0.49691748,  0.85135477,  0.71297274,  0.72842184,\n",
       "        0.69579193,  0.74870483,  1.32630079,  0.61371571,  0.57983214,\n",
       "        0.83311266,  0.90690007,  0.88161777,  0.4861283 ,  1.07612518,\n",
       "        0.68981898,  0.77816505,  0.83430996,  0.49551756,  0.60580411,\n",
       "        0.84033349,  0.59106437,  0.61116435,  0.16495983,  0.67809676,\n",
       "        0.38467244,  0.8281743 ,  0.55636529,  0.94138151,  0.8627901 ,\n",
       "        0.98964128,  0.88442071,  0.45319505,  0.59862845,  1.32837695,\n",
       "        0.56032739,  0.56243237,  0.51906172,  0.72345487,  0.80560359,\n",
       "        0.78433985,  0.74054925,  0.36689665,  0.30056564,  0.93125219,\n",
       "        0.53375139,  0.79688572,  1.12725353,  0.66476451,  0.64446499,\n",
       "        0.42082303,  0.64261788,  0.72976011,  0.82021421,  0.72362005,\n",
       "        0.72652002,  0.64953134,  0.67552096,  0.50012129,  1.1205468 ,\n",
       "        0.43778361,  0.8903278 ,  1.13364748,  0.38188301,  0.78878296,\n",
       "        0.42827875,  0.83557354,  0.64975595,  0.60476442,  0.94963469,\n",
       "        0.87129164,  0.74515149,  0.60880265,  1.00276276,  0.88675448,\n",
       "        0.45466597,  0.58204789])"
      ]
     },
     "metadata": {},
     "execution_count": 19
    }
   ],
   "metadata": {}
  },
  {
   "cell_type": "code",
   "execution_count": 20,
   "source": [
    "# Check Performance\r\n",
    "r2_score(y_train,y_train_pred)"
   ],
   "outputs": [
    {
     "output_type": "execute_result",
     "data": {
      "text/plain": [
       "-0.09053498579135999"
      ]
     },
     "metadata": {},
     "execution_count": 20
    }
   ],
   "metadata": {}
  },
  {
   "cell_type": "code",
   "execution_count": 21,
   "source": [
    "# plot actual vs fitted values\r\n",
    "plt.figure(figsize=(5, 7))\r\n",
    "ax = sns.distplot(y, hist=False, color=\"r\", label=\"Actual Value\")\r\n",
    "sns.distplot(y_test_pred, hist=False, color=\"b\", label=\"Fitted Values\" , ax=ax)\r\n",
    "plt.title('Actual vs Fitted Values for Price')\r\n",
    "plt.show()\r\n",
    "plt.close()"
   ],
   "outputs": [
    {
     "output_type": "stream",
     "name": "stderr",
     "text": [
      "C:\\Users\\User1\\Anaconda3\\lib\\site-packages\\seaborn\\distributions.py:2557: FutureWarning: `distplot` is a deprecated function and will be removed in a future version. Please adapt your code to use either `displot` (a figure-level function with similar flexibility) or `kdeplot` (an axes-level function for kernel density plots).\n",
      "  warnings.warn(msg, FutureWarning)\n",
      "C:\\Users\\User1\\Anaconda3\\lib\\site-packages\\seaborn\\distributions.py:2557: FutureWarning: `distplot` is a deprecated function and will be removed in a future version. Please adapt your code to use either `displot` (a figure-level function with similar flexibility) or `kdeplot` (an axes-level function for kernel density plots).\n",
      "  warnings.warn(msg, FutureWarning)\n"
     ]
    },
    {
     "output_type": "display_data",
     "data": {
      "image/png": "[encoded data removed]",
      "text/plain": [
       "<Figure size 360x504 with 1 Axes>"
      ]
     },
     "metadata": {
      "needs_background": "light"
     }
    }
   ],
   "metadata": {}
  },
  {
   "cell_type": "code",
   "execution_count": 22,
   "source": [
    "\r\n",
    "svm1 = svm.SVC(kernel='linear', C = 0.01)\r\n",
    "svm1.fit(X_test,y_test)\r\n",
    "\r\n",
    "y_train_pred = svm1.predict(X_train)\r\n",
    "y_test_pred = svm1.predict(X_test)\r\n",
    "y_test_pred"
   ],
   "outputs": [
    {
     "output_type": "stream",
     "name": "stderr",
     "text": [
      "C:\\Users\\User1\\Anaconda3\\lib\\site-packages\\sklearn\\utils\\validation.py:63: DataConversionWarning: A column-vector y was passed when a 1d array was expected. Please change the shape of y to (n_samples, ), for example using ravel().\n",
      "  return f(*args, **kwargs)\n"
     ]
    },
    {
     "output_type": "execute_result",
     "data": {
      "text/plain": [
       "array([1, 1, 1, 1, 1, 1, 1, 1, 1, 1, 1, 1, 1, 1, 1, 1, 1, 1, 1, 1, 1, 1,\n",
       "       1, 1, 1, 1, 1, 1, 1, 1, 1, 1, 1, 1, 1, 1, 1, 1, 1, 1, 1, 1, 1, 1,\n",
       "       1, 1, 1, 1, 1, 1, 1, 1, 1, 1, 1, 1, 1, 1, 1, 1, 1, 1, 1, 1, 1, 1,\n",
       "       1, 1, 1, 1, 1, 1, 1, 1, 1, 1, 1, 1, 1, 1, 1, 1, 1, 1, 1, 1, 1, 1,\n",
       "       1, 1, 1, 1, 1, 1, 1, 1, 1, 1, 1, 1, 1, 1, 1, 1, 1, 1, 1, 1, 1, 1,\n",
       "       1, 1, 1, 1, 1, 1, 1, 1, 1, 1, 1, 1, 1, 1, 1, 1, 1, 1, 1, 1, 1, 1,\n",
       "       1, 1, 1, 1, 1, 1, 1, 1, 1, 1, 1, 1, 1, 1, 1, 1, 1, 1, 1, 1, 1, 1,\n",
       "       1, 1, 1, 1, 1, 1, 1, 1, 1, 1, 1, 1, 1, 1, 1, 1, 1, 1, 1, 1, 1, 1,\n",
       "       1, 1, 1, 1, 1, 1, 1, 1, 1, 1, 1, 1, 1, 1, 1, 1, 1, 1, 1, 1, 1, 1,\n",
       "       1, 1, 1, 1, 1, 1, 1, 1, 1, 1, 1, 1, 1, 1, 1, 1, 1, 1, 1, 1, 1, 1,\n",
       "       1, 1, 1, 1, 1, 1, 1, 1, 1, 1, 1, 1, 1, 1, 1, 1, 1, 1, 1, 1, 1, 1,\n",
       "       1, 1, 1, 1, 1, 1, 1, 1, 1, 1, 1, 1, 1, 1, 1, 1, 1, 1, 1, 1, 1, 1,\n",
       "       1, 1, 1, 1, 1, 1, 1, 1, 1, 1, 1, 1, 1, 1, 1, 1, 1, 1, 1, 1, 1, 1,\n",
       "       1])"
      ]
     },
     "metadata": {},
     "execution_count": 22
    }
   ],
   "metadata": {}
  },
  {
   "cell_type": "code",
   "execution_count": 23,
   "source": [
    "confusion_matrix(y_test,y_test_pred)"
   ],
   "outputs": [
    {
     "output_type": "execute_result",
     "data": {
      "text/plain": [
       "array([[  0, 135],\n",
       "       [  0, 152]], dtype=int64)"
      ]
     },
     "metadata": {},
     "execution_count": 23
    }
   ],
   "metadata": {}
  },
  {
   "cell_type": "code",
   "execution_count": 24,
   "source": [
    "accuracy_score(y_test,y_test_pred)"
   ],
   "outputs": [
    {
     "output_type": "execute_result",
     "data": {
      "text/plain": [
       "0.5296167247386759"
      ]
     },
     "metadata": {},
     "execution_count": 24
    }
   ],
   "metadata": {}
  },
  {
   "cell_type": "markdown",
   "source": [
    "### We have an accuracy score of 52.6%"
   ],
   "metadata": {}
  },
  {
   "cell_type": "markdown",
   "source": [
    "## Random Forest"
   ],
   "metadata": {}
  },
  {
   "cell_type": "code",
   "execution_count": 25,
   "source": [
    "# creating a RF classifier\r\n",
    "clf = RandomForestClassifier(n_estimators = 100)  \r\n",
    "  \r\n",
    "# Training the model on the training dataset\r\n",
    "# fit function is used to train the model using the training sets as parameters\r\n",
    "clf.fit(X_train, y_train)\r\n",
    "  \r\n",
    "# performing predictions on the test dataset\r\n",
    "y_pred = clf.predict(X_test)\r\n",
    "  \r\n",
    "# using metrics module for accuracy calculation\r\n",
    "print(\"ACCURACY OF THE MODEL: \", metrics.accuracy_score(y_test, y_pred))"
   ],
   "outputs": [
    {
     "output_type": "stream",
     "name": "stderr",
     "text": [
      "<ipython-input-25-e1c1a29b2567>:6: DataConversionWarning: A column-vector y was passed when a 1d array was expected. Please change the shape of y to (n_samples,), for example using ravel().\n",
      "  clf.fit(X_train, y_train)\n"
     ]
    },
    {
     "output_type": "stream",
     "name": "stdout",
     "text": [
      "ACCURACY OF THE MODEL:  0.5609756097560976\n"
     ]
    }
   ],
   "metadata": {}
  },
  {
   "cell_type": "markdown",
   "source": [
    "## Gradient Boosting"
   ],
   "metadata": {}
  },
  {
   "cell_type": "code",
   "execution_count": 26,
   "source": [
    "learning_rates = [0.05, 0.1, 0.25, 0.5, 0.75, 1]\r\n",
    "for learning_rate in learning_rates:\r\n",
    "    gb = GradientBoostingClassifier(n_estimators=20, learning_rate = learning_rate, max_features=2, max_depth = 2, random_state = 0)\r\n",
    "    gb.fit(X_train, y_train)\r\n",
    "    print(\"Learning rate: \", learning_rate)\r\n",
    "    print(\"Accuracy score (training): {0:.3f}\".format(gb.score(X_train, y_train)))\r\n",
    "    print(\"Accuracy score (validation): {0:.3f}\".format(gb.score(X_test, y_test)))"
   ],
   "outputs": [
    {
     "output_type": "stream",
     "name": "stdout",
     "text": [
      "Learning rate:  0.05\n",
      "Accuracy score (training): 0.608\n",
      "Accuracy score (validation): 0.502\n",
      "Learning rate:  0.1\n",
      "Accuracy score (training): 0.608\n",
      "Accuracy score (validation): 0.512\n",
      "Learning rate:  0.25\n",
      "Accuracy score (training): 0.640\n",
      "Accuracy score (validation): 0.544\n",
      "Learning rate:  0.5\n",
      "Accuracy score (training): 0.691\n",
      "Accuracy score (validation): 0.554\n",
      "Learning rate:  0.75\n"
     ]
    },
    {
     "output_type": "stream",
     "name": "stderr",
     "text": [
      "C:\\Users\\User1\\Anaconda3\\lib\\site-packages\\sklearn\\utils\\validation.py:63: DataConversionWarning: A column-vector y was passed when a 1d array was expected. Please change the shape of y to (n_samples, ), for example using ravel().\n",
      "  return f(*args, **kwargs)\n",
      "C:\\Users\\User1\\Anaconda3\\lib\\site-packages\\sklearn\\utils\\validation.py:63: DataConversionWarning: A column-vector y was passed when a 1d array was expected. Please change the shape of y to (n_samples, ), for example using ravel().\n",
      "  return f(*args, **kwargs)\n",
      "C:\\Users\\User1\\Anaconda3\\lib\\site-packages\\sklearn\\utils\\validation.py:63: DataConversionWarning: A column-vector y was passed when a 1d array was expected. Please change the shape of y to (n_samples, ), for example using ravel().\n",
      "  return f(*args, **kwargs)\n",
      "C:\\Users\\User1\\Anaconda3\\lib\\site-packages\\sklearn\\utils\\validation.py:63: DataConversionWarning: A column-vector y was passed when a 1d array was expected. Please change the shape of y to (n_samples, ), for example using ravel().\n",
      "  return f(*args, **kwargs)\n",
      "C:\\Users\\User1\\Anaconda3\\lib\\site-packages\\sklearn\\utils\\validation.py:63: DataConversionWarning: A column-vector y was passed when a 1d array was expected. Please change the shape of y to (n_samples, ), for example using ravel().\n",
      "  return f(*args, **kwargs)\n",
      "C:\\Users\\User1\\Anaconda3\\lib\\site-packages\\sklearn\\utils\\validation.py:63: DataConversionWarning: A column-vector y was passed when a 1d array was expected. Please change the shape of y to (n_samples, ), for example using ravel().\n",
      "  return f(*args, **kwargs)\n"
     ]
    },
    {
     "output_type": "stream",
     "name": "stdout",
     "text": [
      "Accuracy score (training): 0.723\n",
      "Accuracy score (validation): 0.544\n",
      "Learning rate:  1\n",
      "Accuracy score (training): 0.712\n",
      "Accuracy score (validation): 0.509\n"
     ]
    }
   ],
   "metadata": {}
  }
 ],
 "metadata": {
  "orig_nbformat": 4,
  "language_info": {
   "name": "python",
   "version": "3.8.8",
   "mimetype": "text/x-python",
   "codemirror_mode": {
    "name": "ipython",
    "version": 3
   },
   "pygments_lexer": "ipython3",
   "nbconvert_exporter": "python",
   "file_extension": ".py"
  },
  "kernelspec": {
   "name": "python3",
   "display_name": "Python 3.8.8 64-bit ('base': conda)"
  },
  "interpreter": {
   "hash": "825893eda577408078809c25d9ed95f592e592429a99ce56af90a73b72386c66"
  }
 },
 "nbformat": 4,
 "nbformat_minor": 2
}