{
 "cells": [
  {
   "cell_type": "markdown",
   "source": [
    "# Modelling"
   ],
   "metadata": {}
  },
  {
   "cell_type": "code",
   "execution_count": 1,
   "source": [
    "import pandas as pd\r\n",
    "import numpy as np"
   ],
   "outputs": [],
   "metadata": {}
  },
  {
   "cell_type": "code",
   "execution_count": 2,
   "source": [
    "df = pd.read_csv('../Data/cleaned_sentiment_scores.csv')\r\n",
    "df.head()"
   ],
   "outputs": [
    {
     "output_type": "execute_result",
     "data": {
      "text/html": [
       "<div>\n",
       "<style scoped>\n",
       "    .dataframe tbody tr th:only-of-type {\n",
       "        vertical-align: middle;\n",
       "    }\n",
       "\n",
       "    .dataframe tbody tr th {\n",
       "        vertical-align: top;\n",
       "    }\n",
       "\n",
       "    .dataframe thead th {\n",
       "        text-align: right;\n",
       "    }\n",
       "</style>\n",
       "<table border=\"1\" class=\"dataframe\">\n",
       "  <thead>\n",
       "    <tr style=\"text-align: right;\">\n",
       "      <th></th>\n",
       "      <th>Unnamed: 0</th>\n",
       "      <th>time</th>\n",
       "      <th>avg_positive</th>\n",
       "      <th>avg_neutral</th>\n",
       "      <th>avg_negative</th>\n",
       "      <th>avg_compound</th>\n",
       "      <th>low</th>\n",
       "      <th>high</th>\n",
       "      <th>open</th>\n",
       "      <th>close</th>\n",
       "      <th>volume</th>\n",
       "      <th>price_difference</th>\n",
       "    </tr>\n",
       "  </thead>\n",
       "  <tbody>\n",
       "    <tr>\n",
       "      <th>0</th>\n",
       "      <td>0</td>\n",
       "      <td>2018-12-31</td>\n",
       "      <td>0.138213</td>\n",
       "      <td>0.791725</td>\n",
       "      <td>0.070078</td>\n",
       "      <td>0.133069</td>\n",
       "      <td>3625.00</td>\n",
       "      <td>3835.40</td>\n",
       "      <td>3829.00</td>\n",
       "      <td>3691.86</td>\n",
       "      <td>12799.942626</td>\n",
       "      <td>NaN</td>\n",
       "    </tr>\n",
       "    <tr>\n",
       "      <th>1</th>\n",
       "      <td>1</td>\n",
       "      <td>2019-01-01</td>\n",
       "      <td>0.133899</td>\n",
       "      <td>0.801962</td>\n",
       "      <td>0.064177</td>\n",
       "      <td>0.131864</td>\n",
       "      <td>3651.02</td>\n",
       "      <td>3841.17</td>\n",
       "      <td>3691.87</td>\n",
       "      <td>3826.10</td>\n",
       "      <td>10812.884988</td>\n",
       "      <td>1.0</td>\n",
       "    </tr>\n",
       "    <tr>\n",
       "      <th>2</th>\n",
       "      <td>2</td>\n",
       "      <td>2019-01-02</td>\n",
       "      <td>0.124542</td>\n",
       "      <td>0.805365</td>\n",
       "      <td>0.070119</td>\n",
       "      <td>0.111221</td>\n",
       "      <td>3770.07</td>\n",
       "      <td>3916.57</td>\n",
       "      <td>3826.10</td>\n",
       "      <td>3890.79</td>\n",
       "      <td>9982.470846</td>\n",
       "      <td>1.0</td>\n",
       "    </tr>\n",
       "    <tr>\n",
       "      <th>3</th>\n",
       "      <td>3</td>\n",
       "      <td>2019-01-03</td>\n",
       "      <td>0.145012</td>\n",
       "      <td>0.785654</td>\n",
       "      <td>0.069367</td>\n",
       "      <td>0.141588</td>\n",
       "      <td>3758.07</td>\n",
       "      <td>3893.80</td>\n",
       "      <td>3890.80</td>\n",
       "      <td>3787.57</td>\n",
       "      <td>9327.647089</td>\n",
       "      <td>0.0</td>\n",
       "    </tr>\n",
       "    <tr>\n",
       "      <th>4</th>\n",
       "      <td>4</td>\n",
       "      <td>2019-01-04</td>\n",
       "      <td>0.124144</td>\n",
       "      <td>0.801732</td>\n",
       "      <td>0.074139</td>\n",
       "      <td>0.123028</td>\n",
       "      <td>3730.00</td>\n",
       "      <td>3849.00</td>\n",
       "      <td>3787.57</td>\n",
       "      <td>3820.82</td>\n",
       "      <td>9225.150500</td>\n",
       "      <td>1.0</td>\n",
       "    </tr>\n",
       "  </tbody>\n",
       "</table>\n",
       "</div>"
      ],
      "text/plain": [
       "   Unnamed: 0        time  avg_positive  avg_neutral  avg_negative  \\\n",
       "0           0  2018-12-31      0.138213     0.791725      0.070078   \n",
       "1           1  2019-01-01      0.133899     0.801962      0.064177   \n",
       "2           2  2019-01-02      0.124542     0.805365      0.070119   \n",
       "3           3  2019-01-03      0.145012     0.785654      0.069367   \n",
       "4           4  2019-01-04      0.124144     0.801732      0.074139   \n",
       "\n",
       "   avg_compound      low     high     open    close        volume  \\\n",
       "0      0.133069  3625.00  3835.40  3829.00  3691.86  12799.942626   \n",
       "1      0.131864  3651.02  3841.17  3691.87  3826.10  10812.884988   \n",
       "2      0.111221  3770.07  3916.57  3826.10  3890.79   9982.470846   \n",
       "3      0.141588  3758.07  3893.80  3890.80  3787.57   9327.647089   \n",
       "4      0.123028  3730.00  3849.00  3787.57  3820.82   9225.150500   \n",
       "\n",
       "   price_difference  \n",
       "0               NaN  \n",
       "1               1.0  \n",
       "2               1.0  \n",
       "3               0.0  \n",
       "4               1.0  "
      ]
     },
     "metadata": {},
     "execution_count": 2
    }
   ],
   "metadata": {}
  },
  {
   "cell_type": "code",
   "execution_count": 3,
   "source": [
    "df = df.drop('Unnamed: 0', axis=1)"
   ],
   "outputs": [],
   "metadata": {}
  },
  {
   "cell_type": "code",
   "execution_count": 8,
   "source": [
    "df = df.dropna()"
   ],
   "outputs": [],
   "metadata": {}
  },
  {
   "cell_type": "code",
   "execution_count": 10,
   "source": [
    "df['price_difference'] = df['price_difference'].astype(int)"
   ],
   "outputs": [],
   "metadata": {}
  },
  {
   "cell_type": "code",
   "execution_count": 11,
   "source": [
    "df.dtypes"
   ],
   "outputs": [
    {
     "output_type": "execute_result",
     "data": {
      "text/plain": [
       "time                 object\n",
       "avg_positive        float64\n",
       "avg_neutral         float64\n",
       "avg_negative        float64\n",
       "avg_compound        float64\n",
       "low                 float64\n",
       "high                float64\n",
       "open                float64\n",
       "close               float64\n",
       "volume              float64\n",
       "price_difference      int32\n",
       "dtype: object"
      ]
     },
     "metadata": {},
     "execution_count": 11
    }
   ],
   "metadata": {}
  },
  {
   "cell_type": "code",
   "execution_count": 5,
   "source": [
    "df.describe()"
   ],
   "outputs": [
    {
     "output_type": "execute_result",
     "data": {
      "text/html": [
       "<div>\n",
       "<style scoped>\n",
       "    .dataframe tbody tr th:only-of-type {\n",
       "        vertical-align: middle;\n",
       "    }\n",
       "\n",
       "    .dataframe tbody tr th {\n",
       "        vertical-align: top;\n",
       "    }\n",
       "\n",
       "    .dataframe thead th {\n",
       "        text-align: right;\n",
       "    }\n",
       "</style>\n",
       "<table border=\"1\" class=\"dataframe\">\n",
       "  <thead>\n",
       "    <tr style=\"text-align: right;\">\n",
       "      <th></th>\n",
       "      <th>avg_positive</th>\n",
       "      <th>avg_neutral</th>\n",
       "      <th>avg_negative</th>\n",
       "      <th>avg_compound</th>\n",
       "      <th>low</th>\n",
       "      <th>high</th>\n",
       "      <th>open</th>\n",
       "      <th>close</th>\n",
       "      <th>volume</th>\n",
       "      <th>price_difference</th>\n",
       "    </tr>\n",
       "  </thead>\n",
       "  <tbody>\n",
       "    <tr>\n",
       "      <th>count</th>\n",
       "      <td>957.000000</td>\n",
       "      <td>957.000000</td>\n",
       "      <td>957.000000</td>\n",
       "      <td>957.000000</td>\n",
       "      <td>983.000000</td>\n",
       "      <td>983.000000</td>\n",
       "      <td>983.000000</td>\n",
       "      <td>983.000000</td>\n",
       "      <td>983.000000</td>\n",
       "      <td>982.000000</td>\n",
       "    </tr>\n",
       "    <tr>\n",
       "      <th>mean</th>\n",
       "      <td>0.127948</td>\n",
       "      <td>0.802997</td>\n",
       "      <td>0.069058</td>\n",
       "      <td>0.127243</td>\n",
       "      <td>17580.555178</td>\n",
       "      <td>18772.507701</td>\n",
       "      <td>18211.053072</td>\n",
       "      <td>18254.036246</td>\n",
       "      <td>16044.567591</td>\n",
       "      <td>0.543788</td>\n",
       "    </tr>\n",
       "    <tr>\n",
       "      <th>std</th>\n",
       "      <td>0.007209</td>\n",
       "      <td>0.007802</td>\n",
       "      <td>0.005414</td>\n",
       "      <td>0.022305</td>\n",
       "      <td>15829.234843</td>\n",
       "      <td>17027.616695</td>\n",
       "      <td>16482.547245</td>\n",
       "      <td>16500.205792</td>\n",
       "      <td>12751.205877</td>\n",
       "      <td>0.498333</td>\n",
       "    </tr>\n",
       "    <tr>\n",
       "      <th>min</th>\n",
       "      <td>0.105348</td>\n",
       "      <td>0.761980</td>\n",
       "      <td>0.052819</td>\n",
       "      <td>0.017491</td>\n",
       "      <td>3337.870000</td>\n",
       "      <td>3383.140000</td>\n",
       "      <td>3358.990000</td>\n",
       "      <td>3359.000000</td>\n",
       "      <td>2699.830014</td>\n",
       "      <td>0.000000</td>\n",
       "    </tr>\n",
       "    <tr>\n",
       "      <th>25%</th>\n",
       "      <td>0.123245</td>\n",
       "      <td>0.797936</td>\n",
       "      <td>0.065355</td>\n",
       "      <td>0.113477</td>\n",
       "      <td>7665.870000</td>\n",
       "      <td>8121.095000</td>\n",
       "      <td>7932.350000</td>\n",
       "      <td>7936.285000</td>\n",
       "      <td>8099.773433</td>\n",
       "      <td>0.000000</td>\n",
       "    </tr>\n",
       "    <tr>\n",
       "      <th>50%</th>\n",
       "      <td>0.127816</td>\n",
       "      <td>0.802990</td>\n",
       "      <td>0.068792</td>\n",
       "      <td>0.128634</td>\n",
       "      <td>9713.990000</td>\n",
       "      <td>10297.120000</td>\n",
       "      <td>10026.790000</td>\n",
       "      <td>10087.300000</td>\n",
       "      <td>12500.342956</td>\n",
       "      <td>1.000000</td>\n",
       "    </tr>\n",
       "    <tr>\n",
       "      <th>75%</th>\n",
       "      <td>0.132360</td>\n",
       "      <td>0.808010</td>\n",
       "      <td>0.072577</td>\n",
       "      <td>0.142902</td>\n",
       "      <td>29097.500000</td>\n",
       "      <td>32354.580000</td>\n",
       "      <td>30848.970000</td>\n",
       "      <td>31122.005000</td>\n",
       "      <td>19448.438858</td>\n",
       "      <td>1.000000</td>\n",
       "    </tr>\n",
       "    <tr>\n",
       "      <th>max</th>\n",
       "      <td>0.177963</td>\n",
       "      <td>0.835052</td>\n",
       "      <td>0.089819</td>\n",
       "      <td>0.188500</td>\n",
       "      <td>62036.730000</td>\n",
       "      <td>64899.000000</td>\n",
       "      <td>63588.220000</td>\n",
       "      <td>63588.220000</td>\n",
       "      <td>130316.646844</td>\n",
       "      <td>1.000000</td>\n",
       "    </tr>\n",
       "  </tbody>\n",
       "</table>\n",
       "</div>"
      ],
      "text/plain": [
       "       avg_positive  avg_neutral  avg_negative  avg_compound           low  \\\n",
       "count    957.000000   957.000000    957.000000    957.000000    983.000000   \n",
       "mean       0.127948     0.802997      0.069058      0.127243  17580.555178   \n",
       "std        0.007209     0.007802      0.005414      0.022305  15829.234843   \n",
       "min        0.105348     0.761980      0.052819      0.017491   3337.870000   \n",
       "25%        0.123245     0.797936      0.065355      0.113477   7665.870000   \n",
       "50%        0.127816     0.802990      0.068792      0.128634   9713.990000   \n",
       "75%        0.132360     0.808010      0.072577      0.142902  29097.500000   \n",
       "max        0.177963     0.835052      0.089819      0.188500  62036.730000   \n",
       "\n",
       "               high          open         close         volume  \\\n",
       "count    983.000000    983.000000    983.000000     983.000000   \n",
       "mean   18772.507701  18211.053072  18254.036246   16044.567591   \n",
       "std    17027.616695  16482.547245  16500.205792   12751.205877   \n",
       "min     3383.140000   3358.990000   3359.000000    2699.830014   \n",
       "25%     8121.095000   7932.350000   7936.285000    8099.773433   \n",
       "50%    10297.120000  10026.790000  10087.300000   12500.342956   \n",
       "75%    32354.580000  30848.970000  31122.005000   19448.438858   \n",
       "max    64899.000000  63588.220000  63588.220000  130316.646844   \n",
       "\n",
       "       price_difference  \n",
       "count        982.000000  \n",
       "mean           0.543788  \n",
       "std            0.498333  \n",
       "min            0.000000  \n",
       "25%            0.000000  \n",
       "50%            1.000000  \n",
       "75%            1.000000  \n",
       "max            1.000000  "
      ]
     },
     "metadata": {},
     "execution_count": 5
    }
   ],
   "metadata": {}
  },
  {
   "cell_type": "markdown",
   "source": [
    "## Train, Test, Split"
   ],
   "metadata": {}
  },
  {
   "cell_type": "code",
   "execution_count": 20,
   "source": [
    "X = df[['avg_positive', 'avg_neutral', 'avg_negative', 'avg_compound']]\r\n",
    "y = df[['price_difference']]"
   ],
   "outputs": [],
   "metadata": {}
  },
  {
   "cell_type": "code",
   "execution_count": 21,
   "source": [
    "from sklearn.model_selection import train_test_split\r\n",
    "\r\n",
    "X_train, X_test, y_train, y_test = train_test_split(X, y, test_size=0.2, random_state=42)"
   ],
   "outputs": [],
   "metadata": {}
  },
  {
   "cell_type": "markdown",
   "source": [
    "## Standard Scaler"
   ],
   "metadata": {}
  },
  {
   "cell_type": "code",
   "execution_count": 22,
   "source": [
    "from sklearn.preprocessing import StandardScaler\r\n",
    "\r\n",
    "# Create an instance of the scaler and apply it to the data\r\n",
    "sc = StandardScaler()\r\n",
    "\r\n",
    "X_train = sc.fit_transform(X_train)\r\n",
    "\r\n",
    "X_test = sc.transform(X_test)"
   ],
   "outputs": [],
   "metadata": {}
  },
  {
   "cell_type": "markdown",
   "source": [
    "## Logistic Regression"
   ],
   "metadata": {}
  },
  {
   "cell_type": "code",
   "execution_count": 23,
   "source": [
    "from sklearn.linear_model import LogisticRegression\r\n",
    "from sklearn.metrics import accuracy_score"
   ],
   "outputs": [],
   "metadata": {}
  },
  {
   "cell_type": "code",
   "execution_count": 28,
   "source": [
    "# Create instance of classifier\r\n",
    "LogReg = LogisticRegression()\r\n",
    "\r\n",
    "LogReg.fit(X_train, y_train.values.ravel())\r\n",
    "\r\n",
    "y_pred = LogReg.predict(X_test)"
   ],
   "outputs": [],
   "metadata": {}
  },
  {
   "cell_type": "code",
   "execution_count": 29,
   "source": [
    "acc_score = round(accuracy_score(y_test, y_pred)*100, 2)\r\n",
    "\r\n",
    "print(\"Accuracy Score: \", acc_score)"
   ],
   "outputs": [
    {
     "output_type": "stream",
     "name": "stdout",
     "text": [
      "Accuracy Score:  52.6\n"
     ]
    }
   ],
   "metadata": {}
  },
  {
   "cell_type": "code",
   "execution_count": 30,
   "source": [
    "from sklearn.metrics import plot_confusion_matrix\r\n",
    "\r\n",
    "plot_confusion_matrix(LogReg, X_test, y_test)"
   ],
   "outputs": [
    {
     "output_type": "execute_result",
     "data": {
      "text/plain": [
       "<sklearn.metrics._plot.confusion_matrix.ConfusionMatrixDisplay at 0x1bb88555760>"
      ]
     },
     "metadata": {},
     "execution_count": 30
    },
    {
     "output_type": "display_data",
     "data": {
      "image/png": "[encoded data removed]",
      "text/plain": [
       "<Figure size 432x288 with 2 Axes>"
      ]
     },
     "metadata": {
      "needs_background": "light"
     }
    }
   ],
   "metadata": {}
  },
  {
   "cell_type": "markdown",
   "source": [
    "## K Nearest Neighbors"
   ],
   "metadata": {}
  },
  {
   "cell_type": "code",
   "execution_count": 47,
   "source": [
    "#Import knearest neighbors Classifier model\r\n",
    "from sklearn.neighbors import KNeighborsClassifier"
   ],
   "outputs": [
    {
     "output_type": "stream",
     "name": "stderr",
     "text": [
      "C:\\Users\\User1\\Anaconda3\\lib\\site-packages\\sklearn\\neighbors\\_classification.py:179: DataConversionWarning: A column-vector y was passed when a 1d array was expected. Please change the shape of y to (n_samples,), for example using ravel().\n",
      "  return self._fit(X, y)\n"
     ]
    }
   ],
   "metadata": {}
  },
  {
   "cell_type": "markdown",
   "source": [
    "### Find Best Value of K"
   ],
   "metadata": {}
  },
  {
   "cell_type": "code",
   "execution_count": 54,
   "source": [
    "# try K=1 through K=25 and record testing accuracy\r\n",
    "k_range = range(1, 26)\r\n",
    "\r\n",
    "# We can create Python dictionary using [] or dict()\r\n",
    "scores = []\r\n",
    "\r\n",
    "# We use a loop through the range 1 to 26\r\n",
    "# We append the scores in the dictionary\r\n",
    "for k in k_range:\r\n",
    "    knn = KNeighborsClassifier(n_neighbors=k)\r\n",
    "    knn.fit(X_train, y_train.values.ravel())\r\n",
    "    y_pred = knn.predict(X_test)\r\n",
    "    scores.append(metrics.accuracy_score(y_test, y_pred))\r\n",
    "\r\n",
    "print(scores)"
   ],
   "outputs": [
    {
     "output_type": "stream",
     "name": "stdout",
     "text": [
      "[0.59375, 0.5572916666666666, 0.5, 0.53125, 0.5572916666666666, 0.5572916666666666, 0.5729166666666666, 0.5572916666666666, 0.53125, 0.5625, 0.5260416666666666, 0.5520833333333334, 0.5208333333333334, 0.5625, 0.5208333333333334, 0.5052083333333334, 0.5260416666666666, 0.5052083333333334, 0.5052083333333334, 0.484375, 0.5208333333333334, 0.5104166666666666, 0.5, 0.5364583333333334, 0.5104166666666666]\n"
     ]
    }
   ],
   "metadata": {}
  },
  {
   "cell_type": "code",
   "execution_count": 55,
   "source": [
    "# import Matplotlib (scientific plotting library)\r\n",
    "import matplotlib.pyplot as plt\r\n",
    "\r\n",
    "# allow plots to appear within the notebook\r\n",
    "%matplotlib inline\r\n",
    "\r\n",
    "# plot the relationship between K and testing accuracy\r\n",
    "# plt.plot(x_axis, y_axis)\r\n",
    "plt.plot(k_range, scores)\r\n",
    "plt.xlabel('Value of K for KNN')\r\n",
    "plt.ylabel('Testing Accuracy')"
   ],
   "outputs": [
    {
     "output_type": "execute_result",
     "data": {
      "text/plain": [
       "Text(0, 0.5, 'Testing Accuracy')"
      ]
     },
     "metadata": {},
     "execution_count": 55
    },
    {
     "output_type": "display_data",
     "data": {
      "image/png": "[encoded data removed]",
      "text/plain": [
       "<Figure size 432x288 with 1 Axes>"
      ]
     },
     "metadata": {
      "needs_background": "light"
     }
    }
   ],
   "metadata": {}
  },
  {
   "cell_type": "code",
   "execution_count": 57,
   "source": [
    "#Create KNN Classifier\r\n",
    "knn = KNeighborsClassifier(n_neighbors=1)\r\n",
    "\r\n",
    "#Train the model using the training sets\r\n",
    "knn.fit(X_train, y_train)\r\n",
    "\r\n",
    "#Predict the response for test dataset\r\n",
    "y_pred = knn.predict(X_test)\r\n",
    "\r\n",
    "# Model Accuracy, how often is the classifier correct?\r\n",
    "print(\"Accuracy:\",metrics.accuracy_score(y_test, y_pred))"
   ],
   "outputs": [
    {
     "output_type": "stream",
     "name": "stdout",
     "text": [
      "Accuracy: 0.59375\n"
     ]
    },
    {
     "output_type": "stream",
     "name": "stderr",
     "text": [
      "C:\\Users\\User1\\Anaconda3\\lib\\site-packages\\sklearn\\neighbors\\_classification.py:179: DataConversionWarning: A column-vector y was passed when a 1d array was expected. Please change the shape of y to (n_samples,), for example using ravel().\n",
      "  return self._fit(X, y)\n"
     ]
    }
   ],
   "metadata": {}
  }
 ],
 "metadata": {
  "orig_nbformat": 4,
  "language_info": {
   "name": "python",
   "version": "3.8.8",
   "mimetype": "text/x-python",
   "codemirror_mode": {
    "name": "ipython",
    "version": 3
   },
   "pygments_lexer": "ipython3",
   "nbconvert_exporter": "python",
   "file_extension": ".py"
  },
  "kernelspec": {
   "name": "python3",
   "display_name": "Python 3.8.8 64-bit ('base': conda)"
  },
  "interpreter": {
   "hash": "825893eda577408078809c25d9ed95f592e592429a99ce56af90a73b72386c66"
  }
 },
 "nbformat": 4,
 "nbformat_minor": 2
}