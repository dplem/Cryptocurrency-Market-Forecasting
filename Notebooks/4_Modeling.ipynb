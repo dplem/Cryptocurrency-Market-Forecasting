{
 "cells": [
  {
   "cell_type": "markdown",
   "metadata": {},
   "source": [
    "# Modeling"
   ]
  },
  {
   "cell_type": "code",
   "execution_count": 1,
   "metadata": {},
   "outputs": [],
   "source": [
    "import pandas as pd\n",
    "import numpy as np\n",
    "from sklearn.model_selection import train_test_split\n",
    "from sklearn.preprocessing import StandardScaler\n",
    "from sklearn.linear_model import LogisticRegression\n",
    "from sklearn.metrics import accuracy_score\n",
    "from sklearn.metrics import plot_confusion_matrix\n",
    "from sklearn import metrics\n",
    "from sklearn.neighbors import KNeighborsClassifier\n",
    "import matplotlib.pyplot as plt\n",
    "from sklearn.svm import SVR\n",
    "from sklearn import svm\n",
    "from sklearn.metrics import r2_score\n",
    "import seaborn as sns\n",
    "from sklearn import svm\n",
    "from sklearn.metrics import accuracy_score,confusion_matrix\n",
    "from sklearn.ensemble import RandomForestClassifier\n",
    "from sklearn.ensemble import GradientBoostingClassifier\n",
    "from sklearn.metrics import classification_report\n",
    "from sklearn.metrics import roc_curve\n",
    "from sklearn.metrics import precision_recall_curve\n",
    "\n",
    "# allow plots to appear within the notebook\n",
    "%matplotlib inline"
   ]
  },
  {
   "cell_type": "code",
   "execution_count": 2,
   "metadata": {},
   "outputs": [
    {
     "data": {
      "text/html": [
       "<div>\n",
       "<style scoped>\n",
       "    .dataframe tbody tr th:only-of-type {\n",
       "        vertical-align: middle;\n",
       "    }\n",
       "\n",
       "    .dataframe tbody tr th {\n",
       "        vertical-align: top;\n",
       "    }\n",
       "\n",
       "    .dataframe thead th {\n",
       "        text-align: right;\n",
       "    }\n",
       "</style>\n",
       "<table border=\"1\" class=\"dataframe\">\n",
       "  <thead>\n",
       "    <tr style=\"text-align: right;\">\n",
       "      <th></th>\n",
       "      <th>Unnamed: 0</th>\n",
       "      <th>time</th>\n",
       "      <th>avg_positive</th>\n",
       "      <th>avg_neutral</th>\n",
       "      <th>avg_negative</th>\n",
       "      <th>avg_compound</th>\n",
       "      <th>low</th>\n",
       "      <th>high</th>\n",
       "      <th>open</th>\n",
       "      <th>close</th>\n",
       "      <th>volume</th>\n",
       "      <th>price_difference</th>\n",
       "    </tr>\n",
       "  </thead>\n",
       "  <tbody>\n",
       "    <tr>\n",
       "      <th>0</th>\n",
       "      <td>0</td>\n",
       "      <td>2018-12-31</td>\n",
       "      <td>0.136517</td>\n",
       "      <td>0.788544</td>\n",
       "      <td>0.073079</td>\n",
       "      <td>0.124860</td>\n",
       "      <td>3625.00</td>\n",
       "      <td>3835.40</td>\n",
       "      <td>3829.00</td>\n",
       "      <td>3691.86</td>\n",
       "      <td>12799.942626</td>\n",
       "      <td>1.0</td>\n",
       "    </tr>\n",
       "    <tr>\n",
       "      <th>1</th>\n",
       "      <td>1</td>\n",
       "      <td>2019-01-01</td>\n",
       "      <td>0.134739</td>\n",
       "      <td>0.794936</td>\n",
       "      <td>0.064983</td>\n",
       "      <td>0.131509</td>\n",
       "      <td>3651.02</td>\n",
       "      <td>3841.17</td>\n",
       "      <td>3691.87</td>\n",
       "      <td>3826.10</td>\n",
       "      <td>10812.884988</td>\n",
       "      <td>1.0</td>\n",
       "    </tr>\n",
       "    <tr>\n",
       "      <th>2</th>\n",
       "      <td>2</td>\n",
       "      <td>2019-01-02</td>\n",
       "      <td>0.122337</td>\n",
       "      <td>0.802931</td>\n",
       "      <td>0.071270</td>\n",
       "      <td>0.110496</td>\n",
       "      <td>3770.07</td>\n",
       "      <td>3916.57</td>\n",
       "      <td>3826.10</td>\n",
       "      <td>3890.79</td>\n",
       "      <td>9982.470846</td>\n",
       "      <td>0.0</td>\n",
       "    </tr>\n",
       "    <tr>\n",
       "      <th>3</th>\n",
       "      <td>3</td>\n",
       "      <td>2019-01-03</td>\n",
       "      <td>0.142155</td>\n",
       "      <td>0.784032</td>\n",
       "      <td>0.071371</td>\n",
       "      <td>0.134599</td>\n",
       "      <td>3758.07</td>\n",
       "      <td>3893.80</td>\n",
       "      <td>3890.80</td>\n",
       "      <td>3787.57</td>\n",
       "      <td>9327.647089</td>\n",
       "      <td>1.0</td>\n",
       "    </tr>\n",
       "    <tr>\n",
       "      <th>4</th>\n",
       "      <td>4</td>\n",
       "      <td>2019-01-04</td>\n",
       "      <td>0.123961</td>\n",
       "      <td>0.799690</td>\n",
       "      <td>0.074883</td>\n",
       "      <td>0.122857</td>\n",
       "      <td>3730.00</td>\n",
       "      <td>3849.00</td>\n",
       "      <td>3787.57</td>\n",
       "      <td>3820.82</td>\n",
       "      <td>9225.150500</td>\n",
       "      <td>0.0</td>\n",
       "    </tr>\n",
       "  </tbody>\n",
       "</table>\n",
       "</div>"
      ],
      "text/plain": [
       "   Unnamed: 0        time  avg_positive  avg_neutral  avg_negative  \\\n",
       "0           0  2018-12-31      0.136517     0.788544      0.073079   \n",
       "1           1  2019-01-01      0.134739     0.794936      0.064983   \n",
       "2           2  2019-01-02      0.122337     0.802931      0.071270   \n",
       "3           3  2019-01-03      0.142155     0.784032      0.071371   \n",
       "4           4  2019-01-04      0.123961     0.799690      0.074883   \n",
       "\n",
       "   avg_compound      low     high     open    close        volume  \\\n",
       "0      0.124860  3625.00  3835.40  3829.00  3691.86  12799.942626   \n",
       "1      0.131509  3651.02  3841.17  3691.87  3826.10  10812.884988   \n",
       "2      0.110496  3770.07  3916.57  3826.10  3890.79   9982.470846   \n",
       "3      0.134599  3758.07  3893.80  3890.80  3787.57   9327.647089   \n",
       "4      0.122857  3730.00  3849.00  3787.57  3820.82   9225.150500   \n",
       "\n",
       "   price_difference  \n",
       "0               1.0  \n",
       "1               1.0  \n",
       "2               0.0  \n",
       "3               1.0  \n",
       "4               0.0  "
      ]
     },
     "execution_count": 2,
     "metadata": {},
     "output_type": "execute_result"
    }
   ],
   "source": [
    "df = pd.read_csv('../Data/cleaned_sentiment_scores.csv')\n",
    "df.head()"
   ]
  },
  {
   "cell_type": "code",
   "execution_count": 3,
   "metadata": {},
   "outputs": [],
   "source": [
    "# Drop Unnamed column\n",
    "df = df.drop('Unnamed: 0', axis=1)"
   ]
  },
  {
   "cell_type": "code",
   "execution_count": 4,
   "metadata": {},
   "outputs": [],
   "source": [
    "# Drop all rows with null values\n",
    "df = df.dropna()"
   ]
  },
  {
   "cell_type": "code",
   "execution_count": 5,
   "metadata": {},
   "outputs": [],
   "source": [
    "# Convert price_difference column to integer\n",
    "df['price_difference'] = df['price_difference'].astype(int)"
   ]
  },
  {
   "cell_type": "code",
   "execution_count": 6,
   "metadata": {},
   "outputs": [
    {
     "data": {
      "text/plain": [
       "time                 object\n",
       "avg_positive        float64\n",
       "avg_neutral         float64\n",
       "avg_negative        float64\n",
       "avg_compound        float64\n",
       "low                 float64\n",
       "high                float64\n",
       "open                float64\n",
       "close               float64\n",
       "volume              float64\n",
       "price_difference      int32\n",
       "dtype: object"
      ]
     },
     "execution_count": 6,
     "metadata": {},
     "output_type": "execute_result"
    }
   ],
   "source": [
    "df.dtypes"
   ]
  },
  {
   "cell_type": "code",
   "execution_count": 7,
   "metadata": {},
   "outputs": [
    {
     "data": {
      "text/html": [
       "<div>\n",
       "<style scoped>\n",
       "    .dataframe tbody tr th:only-of-type {\n",
       "        vertical-align: middle;\n",
       "    }\n",
       "\n",
       "    .dataframe tbody tr th {\n",
       "        vertical-align: top;\n",
       "    }\n",
       "\n",
       "    .dataframe thead th {\n",
       "        text-align: right;\n",
       "    }\n",
       "</style>\n",
       "<table border=\"1\" class=\"dataframe\">\n",
       "  <thead>\n",
       "    <tr style=\"text-align: right;\">\n",
       "      <th></th>\n",
       "      <th>avg_positive</th>\n",
       "      <th>avg_neutral</th>\n",
       "      <th>avg_negative</th>\n",
       "      <th>avg_compound</th>\n",
       "      <th>low</th>\n",
       "      <th>high</th>\n",
       "      <th>open</th>\n",
       "      <th>close</th>\n",
       "      <th>volume</th>\n",
       "      <th>price_difference</th>\n",
       "    </tr>\n",
       "  </thead>\n",
       "  <tbody>\n",
       "    <tr>\n",
       "      <th>count</th>\n",
       "      <td>957.000000</td>\n",
       "      <td>957.000000</td>\n",
       "      <td>957.000000</td>\n",
       "      <td>957.000000</td>\n",
       "      <td>957.000000</td>\n",
       "      <td>957.000000</td>\n",
       "      <td>957.000000</td>\n",
       "      <td>957.000000</td>\n",
       "      <td>957.000000</td>\n",
       "      <td>957.00000</td>\n",
       "    </tr>\n",
       "    <tr>\n",
       "      <th>mean</th>\n",
       "      <td>0.126358</td>\n",
       "      <td>0.797525</td>\n",
       "      <td>0.071027</td>\n",
       "      <td>0.116083</td>\n",
       "      <td>16904.146364</td>\n",
       "      <td>18055.138245</td>\n",
       "      <td>17520.930993</td>\n",
       "      <td>17559.139154</td>\n",
       "      <td>15965.656921</td>\n",
       "      <td>0.54023</td>\n",
       "    </tr>\n",
       "    <tr>\n",
       "      <th>std</th>\n",
       "      <td>0.007096</td>\n",
       "      <td>0.008776</td>\n",
       "      <td>0.005423</td>\n",
       "      <td>0.021458</td>\n",
       "      <td>15269.003101</td>\n",
       "      <td>16453.135551</td>\n",
       "      <td>15928.370120</td>\n",
       "      <td>15944.747315</td>\n",
       "      <td>12860.928639</td>\n",
       "      <td>0.49864</td>\n",
       "    </tr>\n",
       "    <tr>\n",
       "      <th>min</th>\n",
       "      <td>0.105114</td>\n",
       "      <td>0.690477</td>\n",
       "      <td>0.052550</td>\n",
       "      <td>0.020495</td>\n",
       "      <td>3337.870000</td>\n",
       "      <td>3383.140000</td>\n",
       "      <td>3358.990000</td>\n",
       "      <td>3359.000000</td>\n",
       "      <td>2699.830014</td>\n",
       "      <td>0.00000</td>\n",
       "    </tr>\n",
       "    <tr>\n",
       "      <th>25%</th>\n",
       "      <td>0.121881</td>\n",
       "      <td>0.792867</td>\n",
       "      <td>0.067308</td>\n",
       "      <td>0.103479</td>\n",
       "      <td>7570.000000</td>\n",
       "      <td>8059.990000</td>\n",
       "      <td>7822.880000</td>\n",
       "      <td>7859.790000</td>\n",
       "      <td>8026.496207</td>\n",
       "      <td>0.00000</td>\n",
       "    </tr>\n",
       "    <tr>\n",
       "      <th>50%</th>\n",
       "      <td>0.126148</td>\n",
       "      <td>0.797687</td>\n",
       "      <td>0.070755</td>\n",
       "      <td>0.116991</td>\n",
       "      <td>9610.270000</td>\n",
       "      <td>10178.910000</td>\n",
       "      <td>9880.860000</td>\n",
       "      <td>9894.040000</td>\n",
       "      <td>12379.412165</td>\n",
       "      <td>1.00000</td>\n",
       "    </tr>\n",
       "    <tr>\n",
       "      <th>75%</th>\n",
       "      <td>0.130536</td>\n",
       "      <td>0.802636</td>\n",
       "      <td>0.074477</td>\n",
       "      <td>0.131259</td>\n",
       "      <td>22600.000000</td>\n",
       "      <td>24090.000000</td>\n",
       "      <td>23226.180000</td>\n",
       "      <td>23476.510000</td>\n",
       "      <td>19182.049347</td>\n",
       "      <td>1.00000</td>\n",
       "    </tr>\n",
       "    <tr>\n",
       "      <th>max</th>\n",
       "      <td>0.176566</td>\n",
       "      <td>0.831542</td>\n",
       "      <td>0.091292</td>\n",
       "      <td>0.180401</td>\n",
       "      <td>62036.730000</td>\n",
       "      <td>64899.000000</td>\n",
       "      <td>63588.220000</td>\n",
       "      <td>63588.220000</td>\n",
       "      <td>130316.646844</td>\n",
       "      <td>1.00000</td>\n",
       "    </tr>\n",
       "  </tbody>\n",
       "</table>\n",
       "</div>"
      ],
      "text/plain": [
       "       avg_positive  avg_neutral  avg_negative  avg_compound           low  \\\n",
       "count    957.000000   957.000000    957.000000    957.000000    957.000000   \n",
       "mean       0.126358     0.797525      0.071027      0.116083  16904.146364   \n",
       "std        0.007096     0.008776      0.005423      0.021458  15269.003101   \n",
       "min        0.105114     0.690477      0.052550      0.020495   3337.870000   \n",
       "25%        0.121881     0.792867      0.067308      0.103479   7570.000000   \n",
       "50%        0.126148     0.797687      0.070755      0.116991   9610.270000   \n",
       "75%        0.130536     0.802636      0.074477      0.131259  22600.000000   \n",
       "max        0.176566     0.831542      0.091292      0.180401  62036.730000   \n",
       "\n",
       "               high          open         close         volume  \\\n",
       "count    957.000000    957.000000    957.000000     957.000000   \n",
       "mean   18055.138245  17520.930993  17559.139154   15965.656921   \n",
       "std    16453.135551  15928.370120  15944.747315   12860.928639   \n",
       "min     3383.140000   3358.990000   3359.000000    2699.830014   \n",
       "25%     8059.990000   7822.880000   7859.790000    8026.496207   \n",
       "50%    10178.910000   9880.860000   9894.040000   12379.412165   \n",
       "75%    24090.000000  23226.180000  23476.510000   19182.049347   \n",
       "max    64899.000000  63588.220000  63588.220000  130316.646844   \n",
       "\n",
       "       price_difference  \n",
       "count         957.00000  \n",
       "mean            0.54023  \n",
       "std             0.49864  \n",
       "min             0.00000  \n",
       "25%             0.00000  \n",
       "50%             1.00000  \n",
       "75%             1.00000  \n",
       "max             1.00000  "
      ]
     },
     "execution_count": 7,
     "metadata": {},
     "output_type": "execute_result"
    }
   ],
   "source": [
    "df.describe()"
   ]
  },
  {
   "cell_type": "code",
   "execution_count": 8,
   "metadata": {},
   "outputs": [],
   "source": [
    "# Create X and y features\n",
    "X = df[['avg_positive', 'avg_neutral', 'avg_negative', 'avg_compound']]\n",
    "y = df[['price_difference']]"
   ]
  },
  {
   "cell_type": "markdown",
   "metadata": {},
   "source": [
    "## Logistic Regression"
   ]
  },
  {
   "cell_type": "code",
   "execution_count": 9,
   "metadata": {},
   "outputs": [],
   "source": [
    "# Create train, test, split datasets\n",
    "X_train1, X_test1, y_train1, y_test1 = train_test_split(X, y, test_size=0.3, random_state=42)"
   ]
  },
  {
   "cell_type": "code",
   "execution_count": 10,
   "metadata": {},
   "outputs": [],
   "source": [
    "# Create an instance of the scaler and apply it to the data\n",
    "sc = StandardScaler()\n",
    "\n",
    "X_train1 = sc.fit_transform(X_train1)\n",
    "\n",
    "X_test1 = sc.transform(X_test1)"
   ]
  },
  {
   "cell_type": "code",
   "execution_count": 11,
   "metadata": {},
   "outputs": [],
   "source": [
    "# Create instance of classifier\n",
    "LogReg = LogisticRegression()\n",
    "\n",
    "LogReg.fit(X_train1, y_train1.values.ravel())\n",
    "\n",
    "y_pred1 = LogReg.predict(X_test1)"
   ]
  },
  {
   "cell_type": "code",
   "execution_count": 12,
   "metadata": {},
   "outputs": [
    {
     "name": "stdout",
     "output_type": "stream",
     "text": [
      "Logistic Regression Model\n",
      "Accuracy: 0.5\n",
      "Balanced accuracy: 0.5096251266464032\n",
      "Precision score 0.49458483754512633\n",
      "Recall score 0.9716312056737588\n"
     ]
    }
   ],
   "source": [
    "# Metrics\n",
    "print(\"Logistic Regression Model\")\n",
    "print(\"Accuracy:\", metrics.accuracy_score(y_test1, y_pred1))\n",
    "print(\"Balanced accuracy:\", metrics.balanced_accuracy_score(y_test1, y_pred1))\n",
    "print('Precision score' , metrics.precision_score(y_test1, y_pred1))\n",
    "print('Recall score' , metrics.recall_score(y_test1, y_pred1))"
   ]
  },
  {
   "cell_type": "code",
   "execution_count": 13,
   "metadata": {},
   "outputs": [
    {
     "name": "stdout",
     "output_type": "stream",
     "text": [
      "              precision    recall  f1-score   support\n",
      "\n",
      "           0       0.64      0.05      0.09       147\n",
      "           1       0.49      0.97      0.66       141\n",
      "\n",
      "    accuracy                           0.50       288\n",
      "   macro avg       0.57      0.51      0.37       288\n",
      "weighted avg       0.57      0.50      0.37       288\n",
      "\n"
     ]
    }
   ],
   "source": [
    "# Classification Report\n",
    "print(metrics.classification_report(y_test1, y_pred1))"
   ]
  },
  {
   "cell_type": "code",
   "execution_count": 14,
   "metadata": {},
   "outputs": [
    {
     "data": {
      "text/plain": [
       "<sklearn.metrics._plot.confusion_matrix.ConfusionMatrixDisplay at 0x1fb77ad3a90>"
      ]
     },
     "execution_count": 14,
     "metadata": {},
     "output_type": "execute_result"
    },
    {
     "data": {
      "image/png": "[encoded data removed]",
      "text/plain": [
       "<Figure size 432x288 with 2 Axes>"
      ]
     },
     "metadata": {
      "needs_background": "light"
     },
     "output_type": "display_data"
    }
   ],
   "source": [
    "# plot confusion matrix\n",
    "plot_confusion_matrix(LogReg, X_test1, y_test1)"
   ]
  },
  {
   "cell_type": "markdown",
   "metadata": {},
   "source": [
    "### ROC & Precision Recall Curves"
   ]
  },
  {
   "cell_type": "code",
   "execution_count": 15,
   "metadata": {},
   "outputs": [
    {
     "data": {
      "image/png": "[encoded data removed]",
      "text/plain": [
       "<Figure size 432x288 with 1 Axes>"
      ]
     },
     "metadata": {
      "needs_background": "light"
     },
     "output_type": "display_data"
    }
   ],
   "source": [
    "fpr, tpr, thresholds = roc_curve(y_test1, y_pred1)\n",
    "plt.plot([0,1], [0,1], linestyle='--', label='No Skill')\n",
    "plt.plot(fpr, tpr, marker='.', label='Logistic')\n",
    "plt.xlabel('False Positive Rate')\n",
    "plt.ylabel('True Positive Rate')\n",
    "plt.legend()\n",
    "plt.show()"
   ]
  },
  {
   "cell_type": "code",
   "execution_count": 16,
   "metadata": {},
   "outputs": [
    {
     "data": {
      "image/png": "[encoded data removed]",
      "text/plain": [
       "<Figure size 432x288 with 1 Axes>"
      ]
     },
     "metadata": {
      "needs_background": "light"
     },
     "output_type": "display_data"
    }
   ],
   "source": [
    "precision, recall, thresholds = precision_recall_curve(y_test1, y_pred1)\n",
    "# plot the roc curve for the model\n",
    "no_skill = len(y_test1[y_test1==1]) / len(y_test1)\n",
    "plt.plot([0,1], [no_skill,no_skill], linestyle='--', label='No Skill')\n",
    "plt.plot(recall, precision, marker='.', label='Logistic')\n",
    "# axis labels\n",
    "plt.xlabel('Recall')\n",
    "plt.ylabel('Precision')\n",
    "plt.legend()\n",
    "# show the plot\n",
    "plt.show()"
   ]
  },
  {
   "cell_type": "markdown",
   "metadata": {},
   "source": [
    "## K Nearest Neighbors"
   ]
  },
  {
   "cell_type": "code",
   "execution_count": 17,
   "metadata": {},
   "outputs": [],
   "source": [
    "# Create train, test, split datasets\n",
    "X_train2, X_test2, y_train2, y_test2 = train_test_split(X, y, test_size=0.3, random_state=42)"
   ]
  },
  {
   "cell_type": "code",
   "execution_count": 18,
   "metadata": {},
   "outputs": [],
   "source": [
    "# Create an instance of the scaler and apply it to the data\n",
    "sc = StandardScaler()\n",
    "\n",
    "X_train2 = sc.fit_transform(X_train2)\n",
    "\n",
    "X_test2 = sc.transform(X_test2)"
   ]
  },
  {
   "cell_type": "code",
   "execution_count": 19,
   "metadata": {},
   "outputs": [
    {
     "name": "stdout",
     "output_type": "stream",
     "text": [
      "Accuracy: 0.4652777777777778\n"
     ]
    },
    {
     "name": "stderr",
     "output_type": "stream",
     "text": [
      "C:\\Users\\User1\\Anaconda3\\lib\\site-packages\\sklearn\\neighbors\\_classification.py:179: DataConversionWarning: A column-vector y was passed when a 1d array was expected. Please change the shape of y to (n_samples,), for example using ravel().\n",
      "  return self._fit(X, y)\n"
     ]
    }
   ],
   "source": [
    "#Create KNN Classifier\n",
    "knn = KNeighborsClassifier()\n",
    "#knn = KNeighborsClassifier(n_neighbors=1)\n",
    "\n",
    "#Train the model using the training sets\n",
    "knn.fit(X_train2, y_train2)\n",
    "\n",
    "#Predict the response for test dataset\n",
    "y_pred2 = knn.predict(X_test2)\n",
    "\n",
    "# Model Accuracy, how often is the classifier correct?\n",
    "print(\"Accuracy:\",metrics.accuracy_score(y_test2, y_pred2))"
   ]
  },
  {
   "cell_type": "code",
   "execution_count": 20,
   "metadata": {},
   "outputs": [
    {
     "name": "stdout",
     "output_type": "stream",
     "text": [
      "K Nearest Neighbors Model\n",
      "Accuracy: 0.4652777777777778\n",
      "Balanced accuracy: 0.46678245766391663\n",
      "Precision score 0.46060606060606063\n",
      "Recall score 0.5390070921985816\n"
     ]
    }
   ],
   "source": [
    "# metrics\n",
    "print(\"K Nearest Neighbors Model\")\n",
    "print(\"Accuracy:\", metrics.accuracy_score(y_test2, y_pred2))\n",
    "print(\"Balanced accuracy:\", metrics.balanced_accuracy_score(y_test2, y_pred2))\n",
    "print('Precision score' , metrics.precision_score(y_test2, y_pred2))\n",
    "print('Recall score' , metrics.recall_score(y_test2, y_pred2))"
   ]
  },
  {
   "cell_type": "code",
   "execution_count": 21,
   "metadata": {},
   "outputs": [
    {
     "name": "stdout",
     "output_type": "stream",
     "text": [
      "              precision    recall  f1-score   support\n",
      "\n",
      "           0       0.47      0.39      0.43       147\n",
      "           1       0.46      0.54      0.50       141\n",
      "\n",
      "    accuracy                           0.47       288\n",
      "   macro avg       0.47      0.47      0.46       288\n",
      "weighted avg       0.47      0.47      0.46       288\n",
      "\n"
     ]
    }
   ],
   "source": [
    "# Classification Report\n",
    "print(metrics.classification_report(y_test2, y_pred2))"
   ]
  },
  {
   "cell_type": "markdown",
   "metadata": {},
   "source": [
    "### Find Best Value of K"
   ]
  },
  {
   "cell_type": "code",
   "execution_count": 22,
   "metadata": {},
   "outputs": [
    {
     "name": "stdout",
     "output_type": "stream",
     "text": [
      "[0.4791666666666667, 0.5034722222222222, 0.4895833333333333, 0.4826388888888889, 0.4652777777777778, 0.4618055555555556, 0.4513888888888889, 0.5034722222222222, 0.4375, 0.4756944444444444, 0.4548611111111111, 0.4652777777777778, 0.4513888888888889, 0.4618055555555556, 0.4722222222222222, 0.4826388888888889, 0.4722222222222222, 0.4756944444444444, 0.46875, 0.4722222222222222, 0.4826388888888889, 0.4791666666666667, 0.4756944444444444, 0.4861111111111111, 0.46875]\n"
     ]
    }
   ],
   "source": [
    "# try K=1 through K=25 and record testing accuracy\n",
    "k_range = range(1, 26)\n",
    "\n",
    "# We can create Python dictionary using [] or dict()\n",
    "scores = []\n",
    "\n",
    "# We use a loop through the range 1 to 26\n",
    "# We append the scores in the dictionary\n",
    "for k in k_range:\n",
    "    knn = KNeighborsClassifier(n_neighbors=k)\n",
    "    knn.fit(X_train2, y_train2.values.ravel())\n",
    "    y_pred2 = knn.predict(X_test2)\n",
    "    scores.append(metrics.accuracy_score(y_test2, y_pred2))\n",
    "\n",
    "print(scores)"
   ]
  },
  {
   "cell_type": "code",
   "execution_count": 23,
   "metadata": {},
   "outputs": [
    {
     "data": {
      "text/plain": [
       "Text(0, 0.5, 'Testing Accuracy')"
      ]
     },
     "execution_count": 23,
     "metadata": {},
     "output_type": "execute_result"
    },
    {
     "data": {
      "image/png": "[encoded data removed]",
      "text/plain": [
       "<Figure size 432x288 with 1 Axes>"
      ]
     },
     "metadata": {
      "needs_background": "light"
     },
     "output_type": "display_data"
    }
   ],
   "source": [
    "# plot the relationship between K and testing accuracy\n",
    "# plt.plot(x_axis, y_axis)\n",
    "plt.plot(k_range, scores)\n",
    "plt.xlabel('Value of K for KNN')\n",
    "plt.ylabel('Testing Accuracy')"
   ]
  },
  {
   "cell_type": "markdown",
   "metadata": {},
   "source": [
    "### ROC & Precision Recall Curves"
   ]
  },
  {
   "cell_type": "code",
   "execution_count": 24,
   "metadata": {},
   "outputs": [
    {
     "data": {
      "image/png": "[encoded data removed]",
      "text/plain": [
       "<Figure size 432x288 with 1 Axes>"
      ]
     },
     "metadata": {
      "needs_background": "light"
     },
     "output_type": "display_data"
    }
   ],
   "source": [
    "fpr, tpr, thresholds = roc_curve(y_test2, y_pred2)\n",
    "plt.plot([0,1], [0,1], linestyle='--', label='No Skill')\n",
    "plt.plot(fpr, tpr, marker='.', label='KNN')\n",
    "plt.xlabel('False Positive Rate')\n",
    "plt.ylabel('True Positive Rate')\n",
    "plt.legend()\n",
    "plt.show()"
   ]
  },
  {
   "cell_type": "code",
   "execution_count": 25,
   "metadata": {},
   "outputs": [
    {
     "data": {
      "image/png": "[encoded data removed]",
      "text/plain": [
       "<Figure size 432x288 with 1 Axes>"
      ]
     },
     "metadata": {
      "needs_background": "light"
     },
     "output_type": "display_data"
    }
   ],
   "source": [
    "precision, recall, thresholds = precision_recall_curve(y_test2, y_pred2)\n",
    "# plot the roc curve for the model\n",
    "no_skill = len(y_test2[y_test2==1]) / len(y_test2)\n",
    "plt.plot([0,1], [no_skill,no_skill], linestyle='--', label='No Skill')\n",
    "plt.plot(recall, precision, marker='.', label='KNN')\n",
    "# axis labels\n",
    "plt.xlabel('Recall')\n",
    "plt.ylabel('Precision')\n",
    "plt.legend()\n",
    "# show the plot\n",
    "plt.show()"
   ]
  },
  {
   "cell_type": "markdown",
   "metadata": {},
   "source": [
    "## Support Vector Machine (SVM)"
   ]
  },
  {
   "cell_type": "code",
   "execution_count": 26,
   "metadata": {},
   "outputs": [],
   "source": [
    "# Create train, test, split datasets\n",
    "X_train3, X_test3, y_train3, y_test3 = train_test_split(X, y, test_size=0.3, random_state=42)"
   ]
  },
  {
   "cell_type": "code",
   "execution_count": 27,
   "metadata": {},
   "outputs": [],
   "source": [
    "# Create an instance of the scaler and apply it to the data\n",
    "sc = StandardScaler()\n",
    "\n",
    "X_train3 = sc.fit_transform(X_train3)\n",
    "\n",
    "X_test3 = sc.transform(X_test3)"
   ]
  },
  {
   "cell_type": "code",
   "execution_count": 28,
   "metadata": {},
   "outputs": [
    {
     "name": "stderr",
     "output_type": "stream",
     "text": [
      "C:\\Users\\User1\\Anaconda3\\lib\\site-packages\\sklearn\\utils\\validation.py:63: DataConversionWarning: A column-vector y was passed when a 1d array was expected. Please change the shape of y to (n_samples, ), for example using ravel().\n",
      "  return f(*args, **kwargs)\n"
     ]
    }
   ],
   "source": [
    "#create a classifier\n",
    "cls = svm.SVC(kernel=\"linear\")\n",
    "#train the model\n",
    "cls.fit(X_train3,y_train3)\n",
    "#predict the response\n",
    "y_pred3 = cls.predict(X_test3)"
   ]
  },
  {
   "cell_type": "code",
   "execution_count": 29,
   "metadata": {},
   "outputs": [
    {
     "name": "stdout",
     "output_type": "stream",
     "text": [
      "Support Vector Machine Model\n",
      "Accuracy: 0.4895833333333333\n",
      "Balanced accuracy: 0.5\n",
      "Precision score 0.4895833333333333\n",
      "Recall score 1.0\n"
     ]
    }
   ],
   "source": [
    "#accuracy\n",
    "print(\"Support Vector Machine Model\")\n",
    "print(\"Accuracy:\", metrics.accuracy_score(y_test3,y_pred3))\n",
    "print(\"Balanced accuracy:\", metrics.balanced_accuracy_score(y_test3,y_pred3))\n",
    "print('Precision score' , metrics.precision_score(y_test3,y_pred3))\n",
    "print('Recall score' , metrics.recall_score(y_test3,y_pred3))"
   ]
  },
  {
   "cell_type": "code",
   "execution_count": 30,
   "metadata": {},
   "outputs": [
    {
     "name": "stdout",
     "output_type": "stream",
     "text": [
      "              precision    recall  f1-score   support\n",
      "\n",
      "           0       0.00      0.00      0.00       147\n",
      "           1       0.49      1.00      0.66       141\n",
      "\n",
      "    accuracy                           0.49       288\n",
      "   macro avg       0.24      0.50      0.33       288\n",
      "weighted avg       0.24      0.49      0.32       288\n",
      "\n"
     ]
    },
    {
     "name": "stderr",
     "output_type": "stream",
     "text": [
      "C:\\Users\\User1\\Anaconda3\\lib\\site-packages\\sklearn\\metrics\\_classification.py:1245: UndefinedMetricWarning: Precision and F-score are ill-defined and being set to 0.0 in labels with no predicted samples. Use `zero_division` parameter to control this behavior.\n",
      "  _warn_prf(average, modifier, msg_start, len(result))\n",
      "C:\\Users\\User1\\Anaconda3\\lib\\site-packages\\sklearn\\metrics\\_classification.py:1245: UndefinedMetricWarning: Precision and F-score are ill-defined and being set to 0.0 in labels with no predicted samples. Use `zero_division` parameter to control this behavior.\n",
      "  _warn_prf(average, modifier, msg_start, len(result))\n",
      "C:\\Users\\User1\\Anaconda3\\lib\\site-packages\\sklearn\\metrics\\_classification.py:1245: UndefinedMetricWarning: Precision and F-score are ill-defined and being set to 0.0 in labels with no predicted samples. Use `zero_division` parameter to control this behavior.\n",
      "  _warn_prf(average, modifier, msg_start, len(result))\n"
     ]
    }
   ],
   "source": [
    "# Classification Report\n",
    "print(metrics.classification_report(y_test3, y_pred3))"
   ]
  },
  {
   "cell_type": "markdown",
   "metadata": {},
   "source": [
    "### ROC & Precision Recall Curves"
   ]
  },
  {
   "cell_type": "code",
   "execution_count": 31,
   "metadata": {},
   "outputs": [
    {
     "data": {
      "image/png": "[encoded data removed]",
      "text/plain": [
       "<Figure size 432x288 with 1 Axes>"
      ]
     },
     "metadata": {
      "needs_background": "light"
     },
     "output_type": "display_data"
    }
   ],
   "source": [
    "fpr, tpr, thresholds = roc_curve(y_test3, y_pred3)\n",
    "plt.plot([0,1], [0,1], linestyle='--', label='No Skill')\n",
    "plt.plot(fpr, tpr, marker='.', label='SVM')\n",
    "plt.xlabel('False Positive Rate')\n",
    "plt.ylabel('True Positive Rate')\n",
    "plt.legend()\n",
    "plt.show()"
   ]
  },
  {
   "cell_type": "code",
   "execution_count": 32,
   "metadata": {},
   "outputs": [
    {
     "data": {
      "image/png": "[encoded data removed]",
      "text/plain": [
       "<Figure size 432x288 with 1 Axes>"
      ]
     },
     "metadata": {
      "needs_background": "light"
     },
     "output_type": "display_data"
    }
   ],
   "source": [
    "precision, recall, thresholds = precision_recall_curve(y_test3, y_pred3)\n",
    "# plot the roc curve for the model\n",
    "no_skill = len(y_test3[y_test3==1]) / len(y_test3)\n",
    "plt.plot([0,1], [no_skill,no_skill], linestyle='--', label='No Skill')\n",
    "plt.plot(recall, precision, marker='.', label='SVM')\n",
    "# axis labels\n",
    "plt.xlabel('Recall')\n",
    "plt.ylabel('Precision')\n",
    "plt.legend()\n",
    "# show the plot\n",
    "plt.show()"
   ]
  },
  {
   "cell_type": "markdown",
   "metadata": {},
   "source": [
    "## Random Forest"
   ]
  },
  {
   "cell_type": "code",
   "execution_count": 33,
   "metadata": {},
   "outputs": [],
   "source": [
    "# Create train, test, split datasets\n",
    "X_train4, X_test4, y_train4, y_test4 = train_test_split(X, y, test_size=0.3, random_state=42)"
   ]
  },
  {
   "cell_type": "code",
   "execution_count": 34,
   "metadata": {},
   "outputs": [],
   "source": [
    "# Create an instance of the scaler and apply it to the data\n",
    "sc = StandardScaler()\n",
    "\n",
    "X_train4 = sc.fit_transform(X_train4)\n",
    "\n",
    "X_test4 = sc.transform(X_test4)"
   ]
  },
  {
   "cell_type": "code",
   "execution_count": 35,
   "metadata": {},
   "outputs": [
    {
     "name": "stderr",
     "output_type": "stream",
     "text": [
      "<ipython-input-35-9ffefb866980>:6: DataConversionWarning: A column-vector y was passed when a 1d array was expected. Please change the shape of y to (n_samples,), for example using ravel().\n",
      "  clf.fit(X_train4, y_train4)\n"
     ]
    },
    {
     "name": "stdout",
     "output_type": "stream",
     "text": [
      "Random Forest model\n",
      "Accuracy: 0.4618055555555556\n",
      "Balanced accuracy: 0.4632363583731365\n",
      "Precision score 0.4573170731707317\n",
      "Recall score 0.5319148936170213\n"
     ]
    }
   ],
   "source": [
    "# creating a RF classifier\n",
    "clf = RandomForestClassifier(n_estimators = 100)  \n",
    "  \n",
    "# Training the model on the training dataset\n",
    "# fit function is used to train the model using the training sets as parameters\n",
    "clf.fit(X_train4, y_train4)\n",
    "  \n",
    "# performing predictions on the test dataset\n",
    "y_pred4 = clf.predict(X_test4)\n",
    "  \n",
    "# using metrics module for accuracy calculation\n",
    "print(\"Random Forest model\")\n",
    "print(\"Accuracy:\", metrics.accuracy_score(y_test4,y_pred4))\n",
    "print(\"Balanced accuracy:\", metrics.balanced_accuracy_score(y_test4,y_pred4))\n",
    "print('Precision score' , metrics.precision_score(y_test4,y_pred4))\n",
    "print('Recall score' , metrics.recall_score(y_test4,y_pred4))"
   ]
  },
  {
   "cell_type": "markdown",
   "metadata": {},
   "source": [
    "### ROC & Precision Recall Curves"
   ]
  },
  {
   "cell_type": "code",
   "execution_count": 36,
   "metadata": {},
   "outputs": [
    {
     "data": {
      "image/png": "[encoded data removed]",
      "text/plain": [
       "<Figure size 432x288 with 1 Axes>"
      ]
     },
     "metadata": {
      "needs_background": "light"
     },
     "output_type": "display_data"
    }
   ],
   "source": [
    "fpr, tpr, thresholds = roc_curve(y_test4, y_pred4)\n",
    "plt.plot([0,1], [0,1], linestyle='--', label='No Skill')\n",
    "plt.plot(fpr, tpr, marker='.', label='Random Forest')\n",
    "plt.xlabel('False Positive Rate')\n",
    "plt.ylabel('True Positive Rate')\n",
    "plt.legend()\n",
    "plt.show()\n",
    "\n",
    "#add AUC score\n",
    "#put all ROC curves on the same chart\n",
    "#put precision recall curves on the same chart"
   ]
  },
  {
   "cell_type": "code",
   "execution_count": 37,
   "metadata": {},
   "outputs": [
    {
     "data": {
      "image/png": "[encoded data removed]",
      "text/plain": [
       "<Figure size 432x288 with 1 Axes>"
      ]
     },
     "metadata": {
      "needs_background": "light"
     },
     "output_type": "display_data"
    }
   ],
   "source": [
    "precision, recall, thresholds = precision_recall_curve(y_test4, y_pred4)\n",
    "# plot the roc curve for the model\n",
    "no_skill = len(y_test4[y_test4==1]) / len(y_test4)\n",
    "plt.plot([0,1], [no_skill,no_skill], linestyle='--', label='No Skill')\n",
    "plt.plot(recall, precision, marker='.', label='Random Forest')\n",
    "# axis labels\n",
    "plt.xlabel('Recall')\n",
    "plt.ylabel('Precision')\n",
    "plt.legend()\n",
    "# show the plot\n",
    "plt.show()"
   ]
  },
  {
   "cell_type": "markdown",
   "metadata": {},
   "source": [
    "## Gradient Boosting"
   ]
  },
  {
   "cell_type": "code",
   "execution_count": 38,
   "metadata": {},
   "outputs": [],
   "source": [
    "# Create train, test, split datasets\n",
    "X_train5, X_test5, y_train5, y_test5 = train_test_split(X, y, test_size=0.3, random_state=42)"
   ]
  },
  {
   "cell_type": "code",
   "execution_count": 39,
   "metadata": {},
   "outputs": [],
   "source": [
    "# Create an instance of the scaler and apply it to the data\n",
    "sc = StandardScaler()\n",
    "\n",
    "X_train5 = sc.fit_transform(X_train5)\n",
    "\n",
    "X_test5 = sc.transform(X_test5)"
   ]
  },
  {
   "cell_type": "code",
   "execution_count": 40,
   "metadata": {},
   "outputs": [
    {
     "data": {
      "text/plain": [
       "{'ccp_alpha': 0.0,\n",
       " 'criterion': 'friedman_mse',\n",
       " 'init': None,\n",
       " 'learning_rate': 1,\n",
       " 'loss': 'deviance',\n",
       " 'max_depth': 3,\n",
       " 'max_features': None,\n",
       " 'max_leaf_nodes': None,\n",
       " 'min_impurity_decrease': 0.0,\n",
       " 'min_impurity_split': None,\n",
       " 'min_samples_leaf': 1,\n",
       " 'min_samples_split': 2,\n",
       " 'min_weight_fraction_leaf': 0.0,\n",
       " 'n_estimators': 100,\n",
       " 'n_iter_no_change': None,\n",
       " 'random_state': None,\n",
       " 'subsample': 1.0,\n",
       " 'tol': 0.0001,\n",
       " 'validation_fraction': 0.1,\n",
       " 'verbose': 0,\n",
       " 'warm_start': False}"
      ]
     },
     "execution_count": 40,
     "metadata": {},
     "output_type": "execute_result"
    }
   ],
   "source": [
    "gb = GradientBoostingClassifier(learning_rate=1)\n",
    "gb.get_params()"
   ]
  },
  {
   "cell_type": "code",
   "execution_count": 41,
   "metadata": {},
   "outputs": [
    {
     "name": "stderr",
     "output_type": "stream",
     "text": [
      "C:\\Users\\User1\\Anaconda3\\lib\\site-packages\\sklearn\\utils\\validation.py:63: DataConversionWarning: A column-vector y was passed when a 1d array was expected. Please change the shape of y to (n_samples, ), for example using ravel().\n",
      "  return f(*args, **kwargs)\n"
     ]
    },
    {
     "name": "stdout",
     "output_type": "stream",
     "text": [
      "Gradient Boosting model\n",
      "Accuracy: 0.5555555555555556\n",
      "Balanced accuracy: 0.5576783905051382\n",
      "Precision score 0.5375722543352601\n",
      "Recall score 0.6595744680851063\n"
     ]
    }
   ],
   "source": [
    "# fitting training set\n",
    "gb.fit(X_train5,y_train5)\n",
    "\n",
    "# performing predictions on the test dataset\n",
    "y_pred5 = gb.predict(X_test5)\n",
    "  \n",
    "# using metrics module\n",
    "print(\"Gradient Boosting model\")\n",
    "print(\"Accuracy:\", metrics.accuracy_score(y_test5,y_pred5))\n",
    "print(\"Balanced accuracy:\", metrics.balanced_accuracy_score(y_test5,y_pred5))\n",
    "print('Precision score' , metrics.precision_score(y_test5,y_pred5))\n",
    "print('Recall score' , metrics.recall_score(y_test5,y_pred5))"
   ]
  },
  {
   "cell_type": "code",
   "execution_count": 42,
   "metadata": {},
   "outputs": [
    {
     "name": "stdout",
     "output_type": "stream",
     "text": [
      "              precision    recall  f1-score   support\n",
      "\n",
      "           0       1.00      1.00      1.00       293\n",
      "           1       1.00      1.00      1.00       376\n",
      "\n",
      "    accuracy                           1.00       669\n",
      "   macro avg       1.00      1.00      1.00       669\n",
      "weighted avg       1.00      1.00      1.00       669\n",
      "\n"
     ]
    }
   ],
   "source": [
    "print(classification_report(y_train5,gb.predict(X_train5)))"
   ]
  },
  {
   "cell_type": "code",
   "execution_count": 43,
   "metadata": {},
   "outputs": [
    {
     "name": "stdout",
     "output_type": "stream",
     "text": [
      "Learning rate:  0.05\n"
     ]
    },
    {
     "name": "stderr",
     "output_type": "stream",
     "text": [
      "C:\\Users\\User1\\Anaconda3\\lib\\site-packages\\sklearn\\utils\\validation.py:63: DataConversionWarning: A column-vector y was passed when a 1d array was expected. Please change the shape of y to (n_samples, ), for example using ravel().\n",
      "  return f(*args, **kwargs)\n",
      "C:\\Users\\User1\\Anaconda3\\lib\\site-packages\\sklearn\\utils\\validation.py:63: DataConversionWarning: A column-vector y was passed when a 1d array was expected. Please change the shape of y to (n_samples, ), for example using ravel().\n",
      "  return f(*args, **kwargs)\n",
      "C:\\Users\\User1\\Anaconda3\\lib\\site-packages\\sklearn\\utils\\validation.py:63: DataConversionWarning: A column-vector y was passed when a 1d array was expected. Please change the shape of y to (n_samples, ), for example using ravel().\n",
      "  return f(*args, **kwargs)\n",
      "C:\\Users\\User1\\Anaconda3\\lib\\site-packages\\sklearn\\utils\\validation.py:63: DataConversionWarning: A column-vector y was passed when a 1d array was expected. Please change the shape of y to (n_samples, ), for example using ravel().\n",
      "  return f(*args, **kwargs)\n",
      "C:\\Users\\User1\\Anaconda3\\lib\\site-packages\\sklearn\\utils\\validation.py:63: DataConversionWarning: A column-vector y was passed when a 1d array was expected. Please change the shape of y to (n_samples, ), for example using ravel().\n",
      "  return f(*args, **kwargs)\n",
      "C:\\Users\\User1\\Anaconda3\\lib\\site-packages\\sklearn\\utils\\validation.py:63: DataConversionWarning: A column-vector y was passed when a 1d array was expected. Please change the shape of y to (n_samples, ), for example using ravel().\n",
      "  return f(*args, **kwargs)\n"
     ]
    },
    {
     "name": "stdout",
     "output_type": "stream",
     "text": [
      "Accuracy score (training): 0.610\n",
      "Accuracy score (validation): 0.483\n",
      "Learning rate:  0.1\n",
      "Accuracy score (training): 0.626\n",
      "Accuracy score (validation): 0.465\n",
      "Learning rate:  0.25\n",
      "Accuracy score (training): 0.676\n",
      "Accuracy score (validation): 0.476\n",
      "Learning rate:  0.5\n",
      "Accuracy score (training): 0.709\n",
      "Accuracy score (validation): 0.479\n",
      "Learning rate:  0.75\n",
      "Accuracy score (training): 0.732\n",
      "Accuracy score (validation): 0.490\n",
      "Learning rate:  1\n",
      "Accuracy score (training): 0.728\n",
      "Accuracy score (validation): 0.486\n"
     ]
    }
   ],
   "source": [
    "# Find best learning rate for gb\n",
    "learning_rates = [0.05, 0.1, 0.25, 0.5, 0.75, 1]\n",
    "for learning_rate in learning_rates:\n",
    "    gb = GradientBoostingClassifier(n_estimators=20, learning_rate = learning_rate, max_features=2, max_depth = 2, random_state = 0)\n",
    "    gb.fit(X_train5, y_train5)\n",
    "    print(\"Learning rate: \", learning_rate)\n",
    "    print(\"Accuracy score (training): {0:.3f}\".format(gb.score(X_train5, y_train5)))\n",
    "    print(\"Accuracy score (validation): {0:.3f}\".format(gb.score(X_test5, y_test5)))"
   ]
  },
  {
   "cell_type": "markdown",
   "metadata": {},
   "source": [
    "### ROC & Precision Recall Curves"
   ]
  },
  {
   "cell_type": "code",
   "execution_count": 44,
   "metadata": {},
   "outputs": [
    {
     "data": {
      "image/png": "[encoded data removed]",
      "text/plain": [
       "<Figure size 432x288 with 1 Axes>"
      ]
     },
     "metadata": {
      "needs_background": "light"
     },
     "output_type": "display_data"
    }
   ],
   "source": [
    "fpr, tpr, thresholds = roc_curve(y_test5, y_pred5)\n",
    "plt.plot([0,1], [0,1], linestyle='--', label='No Skill')\n",
    "plt.plot(fpr, tpr, marker='.', label='Gradient Boosting')\n",
    "plt.xlabel('False Positive Rate')\n",
    "plt.ylabel('True Positive Rate')\n",
    "plt.legend()\n",
    "plt.show()"
   ]
  },
  {
   "cell_type": "code",
   "execution_count": 45,
   "metadata": {},
   "outputs": [
    {
     "data": {
      "image/png": "[encoded data removed]",
      "text/plain": [
       "<Figure size 432x288 with 1 Axes>"
      ]
     },
     "metadata": {
      "needs_background": "light"
     },
     "output_type": "display_data"
    }
   ],
   "source": [
    "precision, recall, thresholds = precision_recall_curve(y_test5, y_pred5)\n",
    "# plot the roc curve for the model\n",
    "no_skill = len(y_test5[y_test5==1]) / len(y_test5)\n",
    "plt.plot([0,1], [no_skill,no_skill], linestyle='--', label='No Skill')\n",
    "plt.plot(recall, precision, marker='.', label='Gradient Boosting')\n",
    "# axis labels\n",
    "plt.xlabel('Recall')\n",
    "plt.ylabel('Precision')\n",
    "plt.legend()\n",
    "# show the plot\n",
    "plt.show()"
   ]
  },
  {
   "cell_type": "code",
   "execution_count": null,
   "metadata": {},
   "outputs": [],
   "source": []
  }
 ],
 "metadata": {
  "interpreter": {
   "hash": "825893eda577408078809c25d9ed95f592e592429a99ce56af90a73b72386c66"
  },
  "kernelspec": {
   "display_name": "Python 3",
   "language": "python",
   "name": "python3"
  },
  "language_info": {
   "codemirror_mode": {
    "name": "ipython",
    "version": 3
   },
   "file_extension": ".py",
   "mimetype": "text/x-python",
   "name": "python",
   "nbconvert_exporter": "python",
   "pygments_lexer": "ipython3",
   "version": "3.8.8"
  }
 },
 "nbformat": 4,
 "nbformat_minor": 2
}
