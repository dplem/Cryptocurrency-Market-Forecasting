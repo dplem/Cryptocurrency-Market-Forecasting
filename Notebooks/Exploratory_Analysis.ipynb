{
 "cells": [
  {
   "cell_type": "code",
   "execution_count": 1,
   "source": [
    "#!pip install wordcloud"
   ],
   "outputs": [
    {
     "output_type": "stream",
     "name": "stdout",
     "text": [
      "Requirement already satisfied: wordcloud in c:\\users\\user1\\anaconda3\\lib\\site-packages (1.8.1)\n",
      "Requirement already satisfied: matplotlib in c:\\users\\user1\\anaconda3\\lib\\site-packages (from wordcloud) (3.3.4)\n",
      "Requirement already satisfied: numpy>=1.6.1 in c:\\users\\user1\\anaconda3\\lib\\site-packages (from wordcloud) (1.20.1)\n",
      "Requirement already satisfied: pillow in c:\\users\\user1\\anaconda3\\lib\\site-packages (from wordcloud) (8.2.0)\n",
      "Requirement already satisfied: python-dateutil>=2.1 in c:\\users\\user1\\anaconda3\\lib\\site-packages (from matplotlib->wordcloud) (2.8.1)\n",
      "Requirement already satisfied: pyparsing!=2.0.4,!=2.1.2,!=2.1.6,>=2.0.3 in c:\\users\\user1\\anaconda3\\lib\\site-packages (from matplotlib->wordcloud) (2.4.7)\n",
      "Requirement already satisfied: kiwisolver>=1.0.1 in c:\\users\\user1\\anaconda3\\lib\\site-packages (from matplotlib->wordcloud) (1.3.1)\n",
      "Requirement already satisfied: cycler>=0.10 in c:\\users\\user1\\anaconda3\\lib\\site-packages (from matplotlib->wordcloud) (0.10.0)\n",
      "Requirement already satisfied: six in c:\\users\\user1\\anaconda3\\lib\\site-packages (from cycler>=0.10->matplotlib->wordcloud) (1.15.0)\n"
     ]
    }
   ],
   "metadata": {}
  },
  {
   "cell_type": "code",
   "execution_count": 22,
   "source": [
    "import pandas as pd\r\n",
    "from wordcloud import WordCloud\r\n",
    "import os\r\n",
    "import nltk"
   ],
   "outputs": [],
   "metadata": {}
  },
  {
   "cell_type": "code",
   "execution_count": 23,
   "source": [
    "# Check current working directory.\r\n",
    "retval = os.getcwd()\r\n",
    "print((\"Current working directory %s\") % retval)\r\n",
    "\r\n",
    "# Now change the directory\r\n",
    "os.chdir('../Data/')\r\n",
    "\r\n",
    "# Check current working directory.\r\n",
    "retval = os.getcwd()\r\n",
    "\r\n",
    "print((\"Directory changed successfully %s\") % retval)"
   ],
   "outputs": [
    {
     "output_type": "stream",
     "name": "stdout",
     "text": [
      "Current working directory c:\\Users\\User1\\Desktop\\Github Repos\\Cryptocurrency-Sentiment-Analysis\\Wordcloud\n",
      "Directory changed successfully c:\\Users\\User1\\Desktop\\Github Repos\\Cryptocurrency-Sentiment-Analysis\\Data\n"
     ]
    }
   ],
   "metadata": {}
  },
  {
   "cell_type": "code",
   "execution_count": 24,
   "source": [
    "path = '../Data/Hot/'\r\n",
    "\r\n",
    "files = os.listdir(path)\r\n",
    "\r\n",
    "csv_list = []\r\n",
    "for f in files:\r\n",
    "    csv_list.append(f)"
   ],
   "outputs": [],
   "metadata": {}
  },
  {
   "cell_type": "code",
   "execution_count": 25,
   "source": [
    "csv_list = csv_list[:-1]\r\n",
    "csv_list"
   ],
   "outputs": [
    {
     "output_type": "execute_result",
     "data": {
      "text/plain": [
       "['hot_Altcoin_20210905.csv',\n",
       " 'hot_Best_of_Crypto_20210905.csv',\n",
       " 'hot_BitcoinMarkets_20210905.csv',\n",
       " 'hot_BitcoinMining_20210905.csv',\n",
       " 'hot_Blockchain_20210905.csv',\n",
       " 'hot_Cryptocurrency_20210905.csv',\n",
       " 'hot_CryptoMarkets_20210905.csv',\n",
       " 'hot_CryptoRecruiting_20210905.csv',\n",
       " 'hot_CryptoTechnology_20210905.csv',\n",
       " 'hot_CryptoTrade_20210905.csv',\n",
       " 'hot_Ethfinance_20210905.csv',\n",
       " 'hot_EthTrader_20210905.csv',\n",
       " 'hot_GPUmining_20210905.csv',\n",
       " 'hot_Liberland_20210905.csv',\n",
       " 'hot_LitecoinMarkets_20210905.csv',\n",
       " 'hot_LitecoinMining_20210905.csv',\n",
       " 'hot_OpenBazaar_20210905.csv',\n",
       " 'hot_XMRtrader_20210905.csv']"
      ]
     },
     "metadata": {},
     "execution_count": 25
    }
   ],
   "metadata": {}
  },
  {
   "cell_type": "code",
   "execution_count": 26,
   "source": [
    "# Check current working directory.\r\n",
    "retval = os.getcwd()\r\n",
    "print((\"Current working directory %s\") % retval)\r\n",
    "\r\n",
    "# Now change the directory\r\n",
    "os.chdir('../Wordcloud/')\r\n",
    "\r\n",
    "# Check current working directory.\r\n",
    "retval = os.getcwd()\r\n",
    "\r\n",
    "print((\"Directory changed successfully %s\") % retval)"
   ],
   "outputs": [
    {
     "output_type": "stream",
     "name": "stdout",
     "text": [
      "Current working directory c:\\Users\\User1\\Desktop\\Github Repos\\Cryptocurrency-Sentiment-Analysis\\Data\n",
      "Directory changed successfully c:\\Users\\User1\\Desktop\\Github Repos\\Cryptocurrency-Sentiment-Analysis\\Wordcloud\n"
     ]
    }
   ],
   "metadata": {}
  },
  {
   "cell_type": "code",
   "execution_count": null,
   "source": [
    "#wordcloud\r\n",
    "top_title = top['Title'].values \r\n",
    "\r\n",
    "wordcloud = WordCloud(width=1600, height=800).generate(str(top_title))\r\n",
    "\r\n",
    "plt.figure( figsize=(20,10), facecolor='k' )\r\n",
    "plt.imshow(wordcloud)\r\n",
    "plt.axis(\"off\")\r\n",
    "plt.tight_layout(pad=0)\r\n",
    "plt.savefig(sub + \".png\", facecolor='k')\r\n",
    "plt.show()"
   ],
   "outputs": [],
   "metadata": {}
  }
 ],
 "metadata": {
  "orig_nbformat": 4,
  "language_info": {
   "name": "python",
   "version": "3.8.8",
   "mimetype": "text/x-python",
   "codemirror_mode": {
    "name": "ipython",
    "version": 3
   },
   "pygments_lexer": "ipython3",
   "nbconvert_exporter": "python",
   "file_extension": ".py"
  },
  "kernelspec": {
   "name": "python3",
   "display_name": "Python 3.8.8 64-bit ('base': conda)"
  },
  "interpreter": {
   "hash": "825893eda577408078809c25d9ed95f592e592429a99ce56af90a73b72386c66"
  }
 },
 "nbformat": 4,
 "nbformat_minor": 2
}