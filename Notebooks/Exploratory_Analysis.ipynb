{
 "cells": [
  {
   "cell_type": "code",
   "execution_count": 1,
   "source": [
    "#!pip install wordcloud"
   ],
   "outputs": [
    {
     "output_type": "stream",
     "name": "stdout",
     "text": [
      "Requirement already satisfied: wordcloud in c:\\users\\user1\\anaconda3\\lib\\site-packages (1.8.1)\n",
      "Requirement already satisfied: matplotlib in c:\\users\\user1\\anaconda3\\lib\\site-packages (from wordcloud) (3.3.4)\n",
      "Requirement already satisfied: numpy>=1.6.1 in c:\\users\\user1\\anaconda3\\lib\\site-packages (from wordcloud) (1.20.1)\n",
      "Requirement already satisfied: pillow in c:\\users\\user1\\anaconda3\\lib\\site-packages (from wordcloud) (8.2.0)\n",
      "Requirement already satisfied: python-dateutil>=2.1 in c:\\users\\user1\\anaconda3\\lib\\site-packages (from matplotlib->wordcloud) (2.8.1)\n",
      "Requirement already satisfied: pyparsing!=2.0.4,!=2.1.2,!=2.1.6,>=2.0.3 in c:\\users\\user1\\anaconda3\\lib\\site-packages (from matplotlib->wordcloud) (2.4.7)\n",
      "Requirement already satisfied: kiwisolver>=1.0.1 in c:\\users\\user1\\anaconda3\\lib\\site-packages (from matplotlib->wordcloud) (1.3.1)\n",
      "Requirement already satisfied: cycler>=0.10 in c:\\users\\user1\\anaconda3\\lib\\site-packages (from matplotlib->wordcloud) (0.10.0)\n",
      "Requirement already satisfied: six in c:\\users\\user1\\anaconda3\\lib\\site-packages (from cycler>=0.10->matplotlib->wordcloud) (1.15.0)\n"
     ]
    }
   ],
   "metadata": {}
  },
  {
   "cell_type": "code",
   "execution_count": 22,
   "source": [
    "import pandas as pd\r\n",
    "from wordcloud import WordCloud\r\n",
    "import os\r\n",
    "import nltk"
   ],
   "outputs": [],
   "metadata": {}
  },
  {
   "cell_type": "code",
   "execution_count": 23,
   "source": [
    "# Check current working directory.\r\n",
    "retval = os.getcwd()\r\n",
    "print((\"Current working directory %s\") % retval)\r\n",
    "\r\n",
    "# Now change the directory\r\n",
    "os.chdir('../Data/')\r\n",
    "\r\n",
    "# Check current working directory.\r\n",
    "retval = os.getcwd()\r\n",
    "\r\n",
    "print((\"Directory changed successfully %s\") % retval)"
   ],
   "outputs": [
    {
     "output_type": "stream",
     "name": "stdout",
     "text": [
      "Current working directory c:\\Users\\User1\\Desktop\\Github Repos\\Cryptocurrency-Sentiment-Analysis\\Wordcloud\n",
      "Directory changed successfully c:\\Users\\User1\\Desktop\\Github Repos\\Cryptocurrency-Sentiment-Analysis\\Data\n"
     ]
    }
   ],
   "metadata": {}
  },
  {
   "cell_type": "code",
   "execution_count": 24,
   "source": [
    "path = '../Data/Hot/'\r\n",
    "\r\n",
    "files = os.listdir(path)\r\n",
    "\r\n",
    "csv_list = []\r\n",
    "for f in files:\r\n",
    "    csv_list.append(f)"
   ],
   "outputs": [],
   "metadata": {}
  },
  {
   "cell_type": "code",
   "execution_count": 25,
   "source": [
    "csv_list = csv_list[:-1]\r\n",
    "csv_list"
   ],
   "outputs": [
    {
     "output_type": "execute_result",
     "data": {
      "text/plain": [
       "['hot_Altcoin_20210905.csv',\n",
       " 'hot_Best_of_Crypto_20210905.csv',\n",
       " 'hot_BitcoinMarkets_20210905.csv',\n",
       " 'hot_BitcoinMining_20210905.csv',\n",
       " 'hot_Blockchain_20210905.csv',\n",
       " 'hot_Cryptocurrency_20210905.csv',\n",
       " 'hot_CryptoMarkets_20210905.csv',\n",
       " 'hot_CryptoRecruiting_20210905.csv',\n",
       " 'hot_CryptoTechnology_20210905.csv',\n",
       " 'hot_CryptoTrade_20210905.csv',\n",
       " 'hot_Ethfinance_20210905.csv',\n",
       " 'hot_EthTrader_20210905.csv',\n",
       " 'hot_GPUmining_20210905.csv',\n",
       " 'hot_Liberland_20210905.csv',\n",
       " 'hot_LitecoinMarkets_20210905.csv',\n",
       " 'hot_LitecoinMining_20210905.csv',\n",
       " 'hot_OpenBazaar_20210905.csv',\n",
       " 'hot_XMRtrader_20210905.csv']"
      ]
     },
     "metadata": {},
     "execution_count": 25
    }
   ],
   "metadata": {}
  },
  {
   "cell_type": "code",
   "execution_count": 26,
   "source": [
    "# Check current working directory.\r\n",
    "retval = os.getcwd()\r\n",
    "print((\"Current working directory %s\") % retval)\r\n",
    "\r\n",
    "# Now change the directory\r\n",
    "os.chdir('../Wordcloud/')\r\n",
    "\r\n",
    "# Check current working directory.\r\n",
    "retval = os.getcwd()\r\n",
    "\r\n",
    "print((\"Directory changed successfully %s\") % retval)"
   ],
   "outputs": [
    {
     "output_type": "stream",
     "name": "stdout",
     "text": [
      "Current working directory c:\\Users\\User1\\Desktop\\Github Repos\\Cryptocurrency-Sentiment-Analysis\\Data\n",
      "Directory changed successfully c:\\Users\\User1\\Desktop\\Github Repos\\Cryptocurrency-Sentiment-Analysis\\Wordcloud\n"
     ]
    }
   ],
   "metadata": {}
  },
  {
   "cell_type": "code",
   "execution_count": null,
   "source": [
    "#wordcloud\r\n",
    "top_title = top['Title'].values \r\n",
    "\r\n",
    "wordcloud = WordCloud(width=1600, height=800).generate(str(top_title))\r\n",
    "\r\n",
    "plt.figure( figsize=(20,10), facecolor='k' )\r\n",
    "plt.imshow(wordcloud)\r\n",
    "plt.axis(\"off\")\r\n",
    "plt.tight_layout(pad=0)\r\n",
    "plt.savefig(sub + \".png\", facecolor='k')\r\n",
    "plt.show()"
   ],
   "outputs": [],
   "metadata": {}
  },
  {
   "cell_type": "markdown",
   "source": [
    "## Sentiment Analysis with Vader"
   ],
   "metadata": {}
  },
  {
   "cell_type": "code",
   "execution_count": null,
   "source": [
    "import numpy as np\r\n",
    "import pandas as pd\r\n",
    "import matplotlib.pyplot as plt\r\n",
    "%matplotlib inline\r\n",
    "plt.style.use('bmh')\r\n",
    "import seaborn as sns\r\n",
    "# pip install vaderSentiment\r\n",
    "from vaderSentiment.vaderSentiment import SentimentIntensityAnalyzer"
   ],
   "outputs": [],
   "metadata": {}
  },
  {
   "cell_type": "code",
   "execution_count": null,
   "source": [
    "analyser = SentimentIntensityAnalyzer()"
   ],
   "outputs": [],
   "metadata": {}
  },
  {
   "cell_type": "code",
   "execution_count": null,
   "source": [
    "# function to calculate polarity scores\r\n",
    "pol = lambda x: analyser.polarity_scores(x)"
   ],
   "outputs": [],
   "metadata": {}
  },
  {
   "cell_type": "code",
   "execution_count": null,
   "source": [
    "clean_df = df\r\n",
    "clean_df.head()"
   ],
   "outputs": [],
   "metadata": {}
  },
  {
   "cell_type": "code",
   "execution_count": null,
   "source": [
    "clean_df = clean_df[clean_df['body'].str.contains('Bitcoin|BTC', case=False)]\r\n",
    "clean_df.head()"
   ],
   "outputs": [],
   "metadata": {}
  },
  {
   "cell_type": "code",
   "execution_count": null,
   "source": [
    "clean_df.shape"
   ],
   "outputs": [],
   "metadata": {}
  },
  {
   "cell_type": "code",
   "execution_count": null,
   "source": [
    "# creating new column 'polarity' in clean_df\r\n",
    "clean_df['polarity'] = clean_df['body'].apply(pol)"
   ],
   "outputs": [],
   "metadata": {}
  },
  {
   "cell_type": "code",
   "execution_count": null,
   "source": [
    "# checking that worked\r\n",
    "clean_df.head()"
   ],
   "outputs": [],
   "metadata": {}
  },
  {
   "cell_type": "code",
   "execution_count": null,
   "source": [
    "# dropping unessential columns and seperating out 'polarity' dictionary\r\n",
    "df2 = pd.concat([clean_df.drop(['author_fullname', 'author_premium', 'collapsed', 'collapsed_because_crowd_control',\r\n",
    "       'collapsed_reason', 'collapsed_reason_code', 'comment_type', 'controversiality', 'distinguished',\r\n",
    "       'parent_id', 'permalink'], axis=1), clean_df['polarity'].apply(pd.Series)], axis=1)"
   ],
   "outputs": [],
   "metadata": {}
  },
  {
   "cell_type": "code",
   "execution_count": null,
   "source": [
    "df2.head()"
   ],
   "outputs": [],
   "metadata": {}
  },
  {
   "cell_type": "code",
   "execution_count": null,
   "source": [
    "# new dataframe with average polarity score for each label\r\n",
    "#scores_df = df2.groupby('created_utc')['pos'].mean().reset_index(name='avg_positive')\r\n",
    "#scores_df['avg_neutral'] = df2.groupby('created_utc')['neu'].mean()\r\n",
    "#scores_df['avg_negative'] = df2.groupby('created_utc')['neg'].mean()\r\n",
    "#scores_df['avg_compound'] = df2.groupby('created_utc')['compound'].mean()"
   ],
   "outputs": [],
   "metadata": {}
  },
  {
   "cell_type": "code",
   "execution_count": null,
   "source": [
    "# print average polarity score for each label\r\n",
    "print('The average Positive score = ' + str(df2['pos'].mean()))\r\n",
    "print('The average Neutral score = ' + str(df2['neu'].mean()))\r\n",
    "print('The average Negative score = ' + str(df2['neg'].mean()))\r\n",
    "print('The average Compound score = ' + str(df2['compound'].mean()))"
   ],
   "outputs": [],
   "metadata": {}
  },
  {
   "cell_type": "markdown",
   "source": [
    "## Wordcloud"
   ],
   "metadata": {}
  },
  {
   "cell_type": "code",
   "execution_count": null,
   "source": [
    "# Python program to generate WordCloud\r\n",
    " \r\n",
    "# importing all necessary modules\r\n",
    "from wordcloud import WordCloud, STOPWORDS\r\n",
    "import matplotlib.pyplot as plt\r\n",
    "import pandas as pd\r\n",
    "\r\n",
    " \r\n",
    "comment_words = ''\r\n",
    "stopwords = set(STOPWORDS)\r\n",
    " \r\n",
    "# iterate through the csv file\r\n",
    "for val in df2.body:\r\n",
    "     \r\n",
    "    # typecaste each val to string\r\n",
    "    val = str(val)\r\n",
    " \r\n",
    "    # split the value\r\n",
    "    tokens = val.split()\r\n",
    "     \r\n",
    "    # Converts each token into lowercase\r\n",
    "    for i in range(len(tokens)):\r\n",
    "        tokens[i] = tokens[i].lower()\r\n",
    "     \r\n",
    "    comment_words += \" \".join(tokens)+\" \"\r\n",
    " \r\n",
    "wordcloud = WordCloud(width = 1600, height = 800,\r\n",
    "                background_color ='white',\r\n",
    "                stopwords = stopwords,\r\n",
    "                min_font_size = 10).generate(comment_words)\r\n",
    " \r\n",
    "# plot the WordCloud image                      \r\n",
    "plt.figure(figsize = (16, 8), facecolor = None)\r\n",
    "plt.imshow(wordcloud)\r\n",
    "plt.axis(\"off\")\r\n",
    "plt.tight_layout(pad = 0)\r\n",
    " \r\n",
    "plt.show()"
   ],
   "outputs": [],
   "metadata": {}
  }
 ],
 "metadata": {
  "orig_nbformat": 4,
  "language_info": {
   "name": "python",
   "version": "3.8.8",
   "mimetype": "text/x-python",
   "codemirror_mode": {
    "name": "ipython",
    "version": 3
   },
   "pygments_lexer": "ipython3",
   "nbconvert_exporter": "python",
   "file_extension": ".py"
  },
  "kernelspec": {
   "name": "python3",
   "display_name": "Python 3.8.8 64-bit ('base': conda)"
  },
  "interpreter": {
   "hash": "825893eda577408078809c25d9ed95f592e592429a99ce56af90a73b72386c66"
  }
 },
 "nbformat": 4,
 "nbformat_minor": 2
}